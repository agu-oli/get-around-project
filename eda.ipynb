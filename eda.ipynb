{
 "cells": [
  {
   "cell_type": "code",
   "execution_count": 84,
   "metadata": {},
   "outputs": [],
   "source": [
    "import pandas as pd"
   ]
  },
  {
   "cell_type": "code",
   "execution_count": 178,
   "metadata": {},
   "outputs": [
    {
     "data": {
      "text/html": [
       "<div>\n",
       "<style scoped>\n",
       "    .dataframe tbody tr th:only-of-type {\n",
       "        vertical-align: middle;\n",
       "    }\n",
       "\n",
       "    .dataframe tbody tr th {\n",
       "        vertical-align: top;\n",
       "    }\n",
       "\n",
       "    .dataframe thead th {\n",
       "        text-align: right;\n",
       "    }\n",
       "</style>\n",
       "<table border=\"1\" class=\"dataframe\">\n",
       "  <thead>\n",
       "    <tr style=\"text-align: right;\">\n",
       "      <th></th>\n",
       "      <th>rental_id</th>\n",
       "      <th>car_id</th>\n",
       "      <th>checkin_type</th>\n",
       "      <th>state</th>\n",
       "      <th>delay_at_checkout_in_minutes</th>\n",
       "      <th>previous_ended_rental_id</th>\n",
       "      <th>time_delta_with_previous_rental_in_minutes</th>\n",
       "    </tr>\n",
       "  </thead>\n",
       "  <tbody>\n",
       "    <tr>\n",
       "      <th>0</th>\n",
       "      <td>505000</td>\n",
       "      <td>363965</td>\n",
       "      <td>mobile</td>\n",
       "      <td>canceled</td>\n",
       "      <td>NaN</td>\n",
       "      <td>NaN</td>\n",
       "      <td>NaN</td>\n",
       "    </tr>\n",
       "    <tr>\n",
       "      <th>1</th>\n",
       "      <td>507750</td>\n",
       "      <td>269550</td>\n",
       "      <td>mobile</td>\n",
       "      <td>ended</td>\n",
       "      <td>-81.0</td>\n",
       "      <td>NaN</td>\n",
       "      <td>NaN</td>\n",
       "    </tr>\n",
       "    <tr>\n",
       "      <th>2</th>\n",
       "      <td>508131</td>\n",
       "      <td>359049</td>\n",
       "      <td>connect</td>\n",
       "      <td>ended</td>\n",
       "      <td>70.0</td>\n",
       "      <td>NaN</td>\n",
       "      <td>NaN</td>\n",
       "    </tr>\n",
       "    <tr>\n",
       "      <th>3</th>\n",
       "      <td>508865</td>\n",
       "      <td>299063</td>\n",
       "      <td>connect</td>\n",
       "      <td>canceled</td>\n",
       "      <td>NaN</td>\n",
       "      <td>NaN</td>\n",
       "      <td>NaN</td>\n",
       "    </tr>\n",
       "    <tr>\n",
       "      <th>4</th>\n",
       "      <td>511440</td>\n",
       "      <td>313932</td>\n",
       "      <td>mobile</td>\n",
       "      <td>ended</td>\n",
       "      <td>NaN</td>\n",
       "      <td>NaN</td>\n",
       "      <td>NaN</td>\n",
       "    </tr>\n",
       "  </tbody>\n",
       "</table>\n",
       "</div>"
      ],
      "text/plain": [
       "   rental_id  car_id checkin_type     state  delay_at_checkout_in_minutes  \\\n",
       "0     505000  363965       mobile  canceled                           NaN   \n",
       "1     507750  269550       mobile     ended                         -81.0   \n",
       "2     508131  359049      connect     ended                          70.0   \n",
       "3     508865  299063      connect  canceled                           NaN   \n",
       "4     511440  313932       mobile     ended                           NaN   \n",
       "\n",
       "   previous_ended_rental_id  time_delta_with_previous_rental_in_minutes  \n",
       "0                       NaN                                         NaN  \n",
       "1                       NaN                                         NaN  \n",
       "2                       NaN                                         NaN  \n",
       "3                       NaN                                         NaN  \n",
       "4                       NaN                                         NaN  "
      ]
     },
     "execution_count": 178,
     "metadata": {},
     "output_type": "execute_result"
    }
   ],
   "source": [
    "df = pd.read_excel('/Users/agustindei/Documents/Jedha/Full_Stack/Projets/projet_deploiement/get_around_delay_analysis.xlsx')\n",
    "df.head()"
   ]
  },
  {
   "cell_type": "code",
   "execution_count": 173,
   "metadata": {},
   "outputs": [
    {
     "data": {
      "text/plain": [
       "(21310, 7)"
      ]
     },
     "execution_count": 173,
     "metadata": {},
     "output_type": "execute_result"
    }
   ],
   "source": [
    "df.shape"
   ]
  },
  {
   "cell_type": "code",
   "execution_count": 87,
   "metadata": {},
   "outputs": [
    {
     "name": "stdout",
     "output_type": "stream",
     "text": [
      "Number of rows : 21310\n",
      "\n",
      "Display of dataset: \n"
     ]
    },
    {
     "data": {
      "text/html": [
       "<div>\n",
       "<style scoped>\n",
       "    .dataframe tbody tr th:only-of-type {\n",
       "        vertical-align: middle;\n",
       "    }\n",
       "\n",
       "    .dataframe tbody tr th {\n",
       "        vertical-align: top;\n",
       "    }\n",
       "\n",
       "    .dataframe thead th {\n",
       "        text-align: right;\n",
       "    }\n",
       "</style>\n",
       "<table border=\"1\" class=\"dataframe\">\n",
       "  <thead>\n",
       "    <tr style=\"text-align: right;\">\n",
       "      <th></th>\n",
       "      <th>rental_id</th>\n",
       "      <th>car_id</th>\n",
       "      <th>checkin_type</th>\n",
       "      <th>state</th>\n",
       "      <th>delay_at_checkout_in_minutes</th>\n",
       "      <th>previous_ended_rental_id</th>\n",
       "      <th>time_delta_with_previous_rental_in_minutes</th>\n",
       "    </tr>\n",
       "  </thead>\n",
       "  <tbody>\n",
       "    <tr>\n",
       "      <th>0</th>\n",
       "      <td>505000</td>\n",
       "      <td>363965</td>\n",
       "      <td>mobile</td>\n",
       "      <td>canceled</td>\n",
       "      <td>NaN</td>\n",
       "      <td>NaN</td>\n",
       "      <td>NaN</td>\n",
       "    </tr>\n",
       "    <tr>\n",
       "      <th>1</th>\n",
       "      <td>507750</td>\n",
       "      <td>269550</td>\n",
       "      <td>mobile</td>\n",
       "      <td>ended</td>\n",
       "      <td>-81.0</td>\n",
       "      <td>NaN</td>\n",
       "      <td>NaN</td>\n",
       "    </tr>\n",
       "    <tr>\n",
       "      <th>2</th>\n",
       "      <td>508131</td>\n",
       "      <td>359049</td>\n",
       "      <td>connect</td>\n",
       "      <td>ended</td>\n",
       "      <td>70.0</td>\n",
       "      <td>NaN</td>\n",
       "      <td>NaN</td>\n",
       "    </tr>\n",
       "    <tr>\n",
       "      <th>3</th>\n",
       "      <td>508865</td>\n",
       "      <td>299063</td>\n",
       "      <td>connect</td>\n",
       "      <td>canceled</td>\n",
       "      <td>NaN</td>\n",
       "      <td>NaN</td>\n",
       "      <td>NaN</td>\n",
       "    </tr>\n",
       "    <tr>\n",
       "      <th>4</th>\n",
       "      <td>511440</td>\n",
       "      <td>313932</td>\n",
       "      <td>mobile</td>\n",
       "      <td>ended</td>\n",
       "      <td>NaN</td>\n",
       "      <td>NaN</td>\n",
       "      <td>NaN</td>\n",
       "    </tr>\n",
       "  </tbody>\n",
       "</table>\n",
       "</div>"
      ],
      "text/plain": [
       "   rental_id  car_id checkin_type     state  delay_at_checkout_in_minutes  \\\n",
       "0     505000  363965       mobile  canceled                           NaN   \n",
       "1     507750  269550       mobile     ended                         -81.0   \n",
       "2     508131  359049      connect     ended                          70.0   \n",
       "3     508865  299063      connect  canceled                           NaN   \n",
       "4     511440  313932       mobile     ended                           NaN   \n",
       "\n",
       "   previous_ended_rental_id  time_delta_with_previous_rental_in_minutes  \n",
       "0                       NaN                                         NaN  \n",
       "1                       NaN                                         NaN  \n",
       "2                       NaN                                         NaN  \n",
       "3                       NaN                                         NaN  \n",
       "4                       NaN                                         NaN  "
      ]
     },
     "metadata": {},
     "output_type": "display_data"
    },
    {
     "name": "stdout",
     "output_type": "stream",
     "text": [
      "\n",
      "Basics statistics: \n"
     ]
    },
    {
     "data": {
      "text/html": [
       "<div>\n",
       "<style scoped>\n",
       "    .dataframe tbody tr th:only-of-type {\n",
       "        vertical-align: middle;\n",
       "    }\n",
       "\n",
       "    .dataframe tbody tr th {\n",
       "        vertical-align: top;\n",
       "    }\n",
       "\n",
       "    .dataframe thead th {\n",
       "        text-align: right;\n",
       "    }\n",
       "</style>\n",
       "<table border=\"1\" class=\"dataframe\">\n",
       "  <thead>\n",
       "    <tr style=\"text-align: right;\">\n",
       "      <th></th>\n",
       "      <th>rental_id</th>\n",
       "      <th>car_id</th>\n",
       "      <th>checkin_type</th>\n",
       "      <th>state</th>\n",
       "      <th>delay_at_checkout_in_minutes</th>\n",
       "      <th>previous_ended_rental_id</th>\n",
       "      <th>time_delta_with_previous_rental_in_minutes</th>\n",
       "    </tr>\n",
       "  </thead>\n",
       "  <tbody>\n",
       "    <tr>\n",
       "      <th>count</th>\n",
       "      <td>21310.000000</td>\n",
       "      <td>21310.000000</td>\n",
       "      <td>21310</td>\n",
       "      <td>21310</td>\n",
       "      <td>16346.000000</td>\n",
       "      <td>1841.000000</td>\n",
       "      <td>1841.000000</td>\n",
       "    </tr>\n",
       "    <tr>\n",
       "      <th>unique</th>\n",
       "      <td>NaN</td>\n",
       "      <td>NaN</td>\n",
       "      <td>2</td>\n",
       "      <td>2</td>\n",
       "      <td>NaN</td>\n",
       "      <td>NaN</td>\n",
       "      <td>NaN</td>\n",
       "    </tr>\n",
       "    <tr>\n",
       "      <th>top</th>\n",
       "      <td>NaN</td>\n",
       "      <td>NaN</td>\n",
       "      <td>mobile</td>\n",
       "      <td>ended</td>\n",
       "      <td>NaN</td>\n",
       "      <td>NaN</td>\n",
       "      <td>NaN</td>\n",
       "    </tr>\n",
       "    <tr>\n",
       "      <th>freq</th>\n",
       "      <td>NaN</td>\n",
       "      <td>NaN</td>\n",
       "      <td>17003</td>\n",
       "      <td>18045</td>\n",
       "      <td>NaN</td>\n",
       "      <td>NaN</td>\n",
       "      <td>NaN</td>\n",
       "    </tr>\n",
       "    <tr>\n",
       "      <th>mean</th>\n",
       "      <td>549712.880338</td>\n",
       "      <td>350030.603426</td>\n",
       "      <td>NaN</td>\n",
       "      <td>NaN</td>\n",
       "      <td>59.701517</td>\n",
       "      <td>550127.411733</td>\n",
       "      <td>279.288430</td>\n",
       "    </tr>\n",
       "    <tr>\n",
       "      <th>std</th>\n",
       "      <td>13863.446964</td>\n",
       "      <td>58206.249765</td>\n",
       "      <td>NaN</td>\n",
       "      <td>NaN</td>\n",
       "      <td>1002.561635</td>\n",
       "      <td>13184.023111</td>\n",
       "      <td>254.594486</td>\n",
       "    </tr>\n",
       "    <tr>\n",
       "      <th>min</th>\n",
       "      <td>504806.000000</td>\n",
       "      <td>159250.000000</td>\n",
       "      <td>NaN</td>\n",
       "      <td>NaN</td>\n",
       "      <td>-22433.000000</td>\n",
       "      <td>505628.000000</td>\n",
       "      <td>0.000000</td>\n",
       "    </tr>\n",
       "    <tr>\n",
       "      <th>25%</th>\n",
       "      <td>540613.250000</td>\n",
       "      <td>317639.000000</td>\n",
       "      <td>NaN</td>\n",
       "      <td>NaN</td>\n",
       "      <td>-36.000000</td>\n",
       "      <td>540896.000000</td>\n",
       "      <td>60.000000</td>\n",
       "    </tr>\n",
       "    <tr>\n",
       "      <th>50%</th>\n",
       "      <td>550350.000000</td>\n",
       "      <td>368717.000000</td>\n",
       "      <td>NaN</td>\n",
       "      <td>NaN</td>\n",
       "      <td>9.000000</td>\n",
       "      <td>550567.000000</td>\n",
       "      <td>180.000000</td>\n",
       "    </tr>\n",
       "    <tr>\n",
       "      <th>75%</th>\n",
       "      <td>560468.500000</td>\n",
       "      <td>394928.000000</td>\n",
       "      <td>NaN</td>\n",
       "      <td>NaN</td>\n",
       "      <td>67.000000</td>\n",
       "      <td>560823.000000</td>\n",
       "      <td>540.000000</td>\n",
       "    </tr>\n",
       "    <tr>\n",
       "      <th>max</th>\n",
       "      <td>576401.000000</td>\n",
       "      <td>417675.000000</td>\n",
       "      <td>NaN</td>\n",
       "      <td>NaN</td>\n",
       "      <td>71084.000000</td>\n",
       "      <td>575053.000000</td>\n",
       "      <td>720.000000</td>\n",
       "    </tr>\n",
       "  </tbody>\n",
       "</table>\n",
       "</div>"
      ],
      "text/plain": [
       "            rental_id         car_id checkin_type  state  \\\n",
       "count    21310.000000   21310.000000        21310  21310   \n",
       "unique            NaN            NaN            2      2   \n",
       "top               NaN            NaN       mobile  ended   \n",
       "freq              NaN            NaN        17003  18045   \n",
       "mean    549712.880338  350030.603426          NaN    NaN   \n",
       "std      13863.446964   58206.249765          NaN    NaN   \n",
       "min     504806.000000  159250.000000          NaN    NaN   \n",
       "25%     540613.250000  317639.000000          NaN    NaN   \n",
       "50%     550350.000000  368717.000000          NaN    NaN   \n",
       "75%     560468.500000  394928.000000          NaN    NaN   \n",
       "max     576401.000000  417675.000000          NaN    NaN   \n",
       "\n",
       "        delay_at_checkout_in_minutes  previous_ended_rental_id  \\\n",
       "count                   16346.000000               1841.000000   \n",
       "unique                           NaN                       NaN   \n",
       "top                              NaN                       NaN   \n",
       "freq                             NaN                       NaN   \n",
       "mean                       59.701517             550127.411733   \n",
       "std                      1002.561635              13184.023111   \n",
       "min                    -22433.000000             505628.000000   \n",
       "25%                       -36.000000             540896.000000   \n",
       "50%                         9.000000             550567.000000   \n",
       "75%                        67.000000             560823.000000   \n",
       "max                     71084.000000             575053.000000   \n",
       "\n",
       "        time_delta_with_previous_rental_in_minutes  \n",
       "count                                  1841.000000  \n",
       "unique                                         NaN  \n",
       "top                                            NaN  \n",
       "freq                                           NaN  \n",
       "mean                                    279.288430  \n",
       "std                                     254.594486  \n",
       "min                                       0.000000  \n",
       "25%                                      60.000000  \n",
       "50%                                     180.000000  \n",
       "75%                                     540.000000  \n",
       "max                                     720.000000  "
      ]
     },
     "metadata": {},
     "output_type": "display_data"
    },
    {
     "name": "stdout",
     "output_type": "stream",
     "text": [
      "\n",
      "Percentage of missing values: \n"
     ]
    },
    {
     "data": {
      "text/plain": [
       "rental_id                                      0.000000\n",
       "car_id                                         0.000000\n",
       "checkin_type                                   0.000000\n",
       "state                                          0.000000\n",
       "delay_at_checkout_in_minutes                  23.294228\n",
       "previous_ended_rental_id                      91.360863\n",
       "time_delta_with_previous_rental_in_minutes    91.360863\n",
       "dtype: float64"
      ]
     },
     "metadata": {},
     "output_type": "display_data"
    }
   ],
   "source": [
    "# Basic stats\n",
    "print(\"Number of rows : {}\".format(df.shape[0]))\n",
    "print()\n",
    "\n",
    "print(\"Display of dataset: \")\n",
    "display(df.head())\n",
    "print()\n",
    "\n",
    "print(\"Basics statistics: \")\n",
    "data_desc = df.describe(include=\"all\")\n",
    "display(data_desc)\n",
    "print()\n",
    "\n",
    "print(\"Percentage of missing values: \")\n",
    "display(100 * df.isnull().sum() / df.shape[0])"
   ]
  },
  {
   "cell_type": "markdown",
   "metadata": {},
   "source": [
    "Share of the owner’s revenue would potentially be affected by the feature"
   ]
  },
  {
   "cell_type": "code",
   "execution_count": 109,
   "metadata": {},
   "outputs": [
    {
     "name": "stdout",
     "output_type": "stream",
     "text": [
      "Number of rentals concerned by the new features:  1841\n",
      "\n",
      "Percentage rentals over the total of rentals that can be affected by the new features: \n",
      "8.639136555607696\n"
     ]
    }
   ],
   "source": [
    "num_rentals_concerned = df.previous_ended_rental_id.notnull().sum()\n",
    "print(f\"Number of rentals concerned by the new features: \", num_rentals_concerned)\n",
    "\n",
    "print()\n",
    "print(\"Percentage rentals over the total of rentals that can be affected by the new features: \")\n",
    "percentage_rentals_affected = 100 * df.previous_ended_rental_id.notnull().sum() / df.shape[0]\n",
    "print(percentage_rentals_affected)"
   ]
  },
  {
   "cell_type": "code",
   "execution_count": 110,
   "metadata": {},
   "outputs": [
    {
     "data": {
      "application/vnd.plotly.v1+json": {
       "config": {
        "plotlyServerURL": "https://plot.ly"
       },
       "data": [
        {
         "marker": {
          "color": "skyblue"
         },
         "text": [
          "8.64%"
         ],
         "textposition": "auto",
         "type": "bar",
         "x": [
          "Affected Rentals"
         ],
         "y": [
          8.639136555607696
         ]
        }
       ],
       "layout": {
        "template": {
         "data": {
          "candlestick": [
           {
            "decreasing": {
             "line": {
              "color": "#000033"
             }
            },
            "increasing": {
             "line": {
              "color": "#000032"
             }
            },
            "type": "candlestick"
           }
          ],
          "contour": [
           {
            "colorscale": [
             [
              0,
              "#000011"
             ],
             [
              0.1111111111111111,
              "#000012"
             ],
             [
              0.2222222222222222,
              "#000013"
             ],
             [
              0.3333333333333333,
              "#000014"
             ],
             [
              0.4444444444444444,
              "#000015"
             ],
             [
              0.5555555555555556,
              "#000016"
             ],
             [
              0.6666666666666666,
              "#000017"
             ],
             [
              0.7777777777777778,
              "#000018"
             ],
             [
              0.8888888888888888,
              "#000019"
             ],
             [
              1,
              "#000020"
             ]
            ],
            "type": "contour"
           }
          ],
          "contourcarpet": [
           {
            "colorscale": [
             [
              0,
              "#000011"
             ],
             [
              0.1111111111111111,
              "#000012"
             ],
             [
              0.2222222222222222,
              "#000013"
             ],
             [
              0.3333333333333333,
              "#000014"
             ],
             [
              0.4444444444444444,
              "#000015"
             ],
             [
              0.5555555555555556,
              "#000016"
             ],
             [
              0.6666666666666666,
              "#000017"
             ],
             [
              0.7777777777777778,
              "#000018"
             ],
             [
              0.8888888888888888,
              "#000019"
             ],
             [
              1,
              "#000020"
             ]
            ],
            "type": "contourcarpet"
           }
          ],
          "heatmap": [
           {
            "colorscale": [
             [
              0,
              "#000011"
             ],
             [
              0.1111111111111111,
              "#000012"
             ],
             [
              0.2222222222222222,
              "#000013"
             ],
             [
              0.3333333333333333,
              "#000014"
             ],
             [
              0.4444444444444444,
              "#000015"
             ],
             [
              0.5555555555555556,
              "#000016"
             ],
             [
              0.6666666666666666,
              "#000017"
             ],
             [
              0.7777777777777778,
              "#000018"
             ],
             [
              0.8888888888888888,
              "#000019"
             ],
             [
              1,
              "#000020"
             ]
            ],
            "type": "heatmap"
           }
          ],
          "histogram2d": [
           {
            "colorscale": [
             [
              0,
              "#000011"
             ],
             [
              0.1111111111111111,
              "#000012"
             ],
             [
              0.2222222222222222,
              "#000013"
             ],
             [
              0.3333333333333333,
              "#000014"
             ],
             [
              0.4444444444444444,
              "#000015"
             ],
             [
              0.5555555555555556,
              "#000016"
             ],
             [
              0.6666666666666666,
              "#000017"
             ],
             [
              0.7777777777777778,
              "#000018"
             ],
             [
              0.8888888888888888,
              "#000019"
             ],
             [
              1,
              "#000020"
             ]
            ],
            "type": "histogram2d"
           }
          ],
          "icicle": [
           {
            "textfont": {
             "color": "white"
            },
            "type": "icicle"
           }
          ],
          "sankey": [
           {
            "textfont": {
             "color": "#000036"
            },
            "type": "sankey"
           }
          ],
          "scatter": [
           {
            "marker": {
             "line": {
              "width": 0
             }
            },
            "type": "scatter"
           }
          ],
          "table": [
           {
            "cells": {
             "fill": {
              "color": "#000038"
             },
             "font": {
              "color": "#000037"
             },
             "line": {
              "color": "#000039"
             }
            },
            "header": {
             "fill": {
              "color": "#000040"
             },
             "font": {
              "color": "#000036"
             },
             "line": {
              "color": "#000039"
             }
            },
            "type": "table"
           }
          ],
          "waterfall": [
           {
            "connector": {
             "line": {
              "color": "#000036",
              "width": 2
             }
            },
            "decreasing": {
             "marker": {
              "color": "#000033"
             }
            },
            "increasing": {
             "marker": {
              "color": "#000032"
             }
            },
            "totals": {
             "marker": {
              "color": "#000034"
             }
            },
            "type": "waterfall"
           }
          ]
         },
         "layout": {
          "coloraxis": {
           "colorscale": [
            [
             0,
             "#000011"
            ],
            [
             0.1111111111111111,
             "#000012"
            ],
            [
             0.2222222222222222,
             "#000013"
            ],
            [
             0.3333333333333333,
             "#000014"
            ],
            [
             0.4444444444444444,
             "#000015"
            ],
            [
             0.5555555555555556,
             "#000016"
            ],
            [
             0.6666666666666666,
             "#000017"
            ],
            [
             0.7777777777777778,
             "#000018"
            ],
            [
             0.8888888888888888,
             "#000019"
            ],
            [
             1,
             "#000020"
            ]
           ]
          },
          "colorscale": {
           "diverging": [
            [
             0,
             "#000021"
            ],
            [
             0.1,
             "#000022"
            ],
            [
             0.2,
             "#000023"
            ],
            [
             0.3,
             "#000024"
            ],
            [
             0.4,
             "#000025"
            ],
            [
             0.5,
             "#000026"
            ],
            [
             0.6,
             "#000027"
            ],
            [
             0.7,
             "#000028"
            ],
            [
             0.8,
             "#000029"
            ],
            [
             0.9,
             "#000030"
            ],
            [
             1,
             "#000031"
            ]
           ],
           "sequential": [
            [
             0,
             "#000011"
            ],
            [
             0.1111111111111111,
             "#000012"
            ],
            [
             0.2222222222222222,
             "#000013"
            ],
            [
             0.3333333333333333,
             "#000014"
            ],
            [
             0.4444444444444444,
             "#000015"
            ],
            [
             0.5555555555555556,
             "#000016"
            ],
            [
             0.6666666666666666,
             "#000017"
            ],
            [
             0.7777777777777778,
             "#000018"
            ],
            [
             0.8888888888888888,
             "#000019"
            ],
            [
             1,
             "#000020"
            ]
           ],
           "sequentialminus": [
            [
             0,
             "#000011"
            ],
            [
             0.1111111111111111,
             "#000012"
            ],
            [
             0.2222222222222222,
             "#000013"
            ],
            [
             0.3333333333333333,
             "#000014"
            ],
            [
             0.4444444444444444,
             "#000015"
            ],
            [
             0.5555555555555556,
             "#000016"
            ],
            [
             0.6666666666666666,
             "#000017"
            ],
            [
             0.7777777777777778,
             "#000018"
            ],
            [
             0.8888888888888888,
             "#000019"
            ],
            [
             1,
             "#000020"
            ]
           ]
          },
          "colorway": [
           "#000001",
           "#000002",
           "#000003",
           "#000004",
           "#000005",
           "#000006",
           "#000007",
           "#000008",
           "#000009",
           "#000010"
          ]
         }
        },
        "title": {
         "text": "Percentage of Rentals Concerned"
        },
        "yaxis": {
         "range": [
          0,
          100
         ],
         "title": {
          "text": "Percentage (%)"
         }
        }
       }
      }
     },
     "metadata": {},
     "output_type": "display_data"
    }
   ],
   "source": [
    "import plotly.graph_objects as go\n",
    "\n",
    "# Assuming percentage_rentals_affected has been computed\n",
    "percentage_rentals_affected = 100 * num_rentals_concerned / df.shape[0]\n",
    "\n",
    "# Create the bar chart\n",
    "fig = go.Figure(\n",
    "    go.Bar(\n",
    "        x=['Affected Rentals'], \n",
    "        y=[percentage_rentals_affected],\n",
    "        marker_color='skyblue',\n",
    "        text=[f'{percentage_rentals_affected:.2f}%'],\n",
    "        textposition='auto'\n",
    "    )\n",
    ")\n",
    "\n",
    "# Customize the layout\n",
    "fig.update_layout(\n",
    "    title='Percentage of Rentals Concerned',\n",
    "    yaxis_title='Percentage (%)',\n",
    "    yaxis_range=[0, 100]\n",
    ")\n",
    "\n",
    "# Display the chart\n",
    "fig.show()\n",
    "\n"
   ]
  },
  {
   "cell_type": "markdown",
   "metadata": {},
   "source": [
    "The share of our owner’s revenue would potentially be affected by the feature is 8,6%"
   ]
  },
  {
   "cell_type": "markdown",
   "metadata": {},
   "source": [
    "How many rentals would be affected by the feature depending on the threshold and scope we choose?"
   ]
  },
  {
   "cell_type": "code",
   "execution_count": 111,
   "metadata": {},
   "outputs": [],
   "source": [
    "df_noprob = df[df.previous_ended_rental_id.isnull()]"
   ]
  },
  {
   "cell_type": "code",
   "execution_count": 112,
   "metadata": {},
   "outputs": [
    {
     "data": {
      "text/plain": [
       "state\n",
       "ended       18045\n",
       "canceled     3265\n",
       "Name: count, dtype: int64"
      ]
     },
     "execution_count": 112,
     "metadata": {},
     "output_type": "execute_result"
    }
   ],
   "source": [
    "df.state.value_counts()"
   ]
  },
  {
   "cell_type": "code",
   "execution_count": 113,
   "metadata": {},
   "outputs": [
    {
     "data": {
      "text/plain": [
       "state\n",
       "ended       16433\n",
       "canceled     3036\n",
       "Name: count, dtype: int64"
      ]
     },
     "execution_count": 113,
     "metadata": {},
     "output_type": "execute_result"
    }
   ],
   "source": [
    "df_noprob.state.value_counts()"
   ]
  },
  {
   "cell_type": "code",
   "execution_count": 114,
   "metadata": {},
   "outputs": [],
   "source": [
    "df_cancelled = df[df['state']=='canceled']"
   ]
  },
  {
   "cell_type": "code",
   "execution_count": 115,
   "metadata": {},
   "outputs": [
    {
     "data": {
      "text/plain": [
       "delay_at_checkout_in_minutes\n",
       "-17468.0    1\n",
       "Name: count, dtype: int64"
      ]
     },
     "execution_count": 115,
     "metadata": {},
     "output_type": "execute_result"
    }
   ],
   "source": [
    "df_cancelled.delay_at_checkout_in_minutes.value_counts()"
   ]
  },
  {
   "cell_type": "code",
   "execution_count": 116,
   "metadata": {},
   "outputs": [
    {
     "data": {
      "text/html": [
       "<div>\n",
       "<style scoped>\n",
       "    .dataframe tbody tr th:only-of-type {\n",
       "        vertical-align: middle;\n",
       "    }\n",
       "\n",
       "    .dataframe tbody tr th {\n",
       "        vertical-align: top;\n",
       "    }\n",
       "\n",
       "    .dataframe thead th {\n",
       "        text-align: right;\n",
       "    }\n",
       "</style>\n",
       "<table border=\"1\" class=\"dataframe\">\n",
       "  <thead>\n",
       "    <tr style=\"text-align: right;\">\n",
       "      <th></th>\n",
       "      <th>rental_id</th>\n",
       "      <th>car_id</th>\n",
       "      <th>delay_at_checkout_in_minutes</th>\n",
       "      <th>previous_ended_rental_id</th>\n",
       "      <th>time_delta_with_previous_rental_in_minutes</th>\n",
       "    </tr>\n",
       "  </thead>\n",
       "  <tbody>\n",
       "    <tr>\n",
       "      <th>count</th>\n",
       "      <td>3265.000000</td>\n",
       "      <td>3265.000000</td>\n",
       "      <td>1.0</td>\n",
       "      <td>229.000000</td>\n",
       "      <td>229.000000</td>\n",
       "    </tr>\n",
       "    <tr>\n",
       "      <th>mean</th>\n",
       "      <td>548637.683920</td>\n",
       "      <td>350585.309954</td>\n",
       "      <td>-17468.0</td>\n",
       "      <td>550913.327511</td>\n",
       "      <td>294.890830</td>\n",
       "    </tr>\n",
       "    <tr>\n",
       "      <th>std</th>\n",
       "      <td>14907.810897</td>\n",
       "      <td>57254.052866</td>\n",
       "      <td>NaN</td>\n",
       "      <td>11955.397600</td>\n",
       "      <td>250.591601</td>\n",
       "    </tr>\n",
       "    <tr>\n",
       "      <th>min</th>\n",
       "      <td>504871.000000</td>\n",
       "      <td>159533.000000</td>\n",
       "      <td>-17468.0</td>\n",
       "      <td>509972.000000</td>\n",
       "      <td>0.000000</td>\n",
       "    </tr>\n",
       "    <tr>\n",
       "      <th>25%</th>\n",
       "      <td>539183.000000</td>\n",
       "      <td>317572.000000</td>\n",
       "      <td>-17468.0</td>\n",
       "      <td>543706.000000</td>\n",
       "      <td>60.000000</td>\n",
       "    </tr>\n",
       "    <tr>\n",
       "      <th>50%</th>\n",
       "      <td>549700.000000</td>\n",
       "      <td>368593.000000</td>\n",
       "      <td>-17468.0</td>\n",
       "      <td>550970.000000</td>\n",
       "      <td>210.000000</td>\n",
       "    </tr>\n",
       "    <tr>\n",
       "      <th>75%</th>\n",
       "      <td>560563.000000</td>\n",
       "      <td>394869.000000</td>\n",
       "      <td>-17468.0</td>\n",
       "      <td>560395.000000</td>\n",
       "      <td>570.000000</td>\n",
       "    </tr>\n",
       "    <tr>\n",
       "      <th>max</th>\n",
       "      <td>576195.000000</td>\n",
       "      <td>416935.000000</td>\n",
       "      <td>-17468.0</td>\n",
       "      <td>574540.000000</td>\n",
       "      <td>720.000000</td>\n",
       "    </tr>\n",
       "  </tbody>\n",
       "</table>\n",
       "</div>"
      ],
      "text/plain": [
       "           rental_id         car_id  delay_at_checkout_in_minutes  \\\n",
       "count    3265.000000    3265.000000                           1.0   \n",
       "mean   548637.683920  350585.309954                      -17468.0   \n",
       "std     14907.810897   57254.052866                           NaN   \n",
       "min    504871.000000  159533.000000                      -17468.0   \n",
       "25%    539183.000000  317572.000000                      -17468.0   \n",
       "50%    549700.000000  368593.000000                      -17468.0   \n",
       "75%    560563.000000  394869.000000                      -17468.0   \n",
       "max    576195.000000  416935.000000                      -17468.0   \n",
       "\n",
       "       previous_ended_rental_id  time_delta_with_previous_rental_in_minutes  \n",
       "count                229.000000                                  229.000000  \n",
       "mean              550913.327511                                  294.890830  \n",
       "std                11955.397600                                  250.591601  \n",
       "min               509972.000000                                    0.000000  \n",
       "25%               543706.000000                                   60.000000  \n",
       "50%               550970.000000                                  210.000000  \n",
       "75%               560395.000000                                  570.000000  \n",
       "max               574540.000000                                  720.000000  "
      ]
     },
     "execution_count": 116,
     "metadata": {},
     "output_type": "execute_result"
    }
   ],
   "source": [
    "df_cancelled.describe()"
   ]
  },
  {
   "cell_type": "code",
   "execution_count": 117,
   "metadata": {},
   "outputs": [
    {
     "data": {
      "text/plain": [
       "1"
      ]
     },
     "execution_count": 117,
     "metadata": {},
     "output_type": "execute_result"
    }
   ],
   "source": [
    "df_cancelled.delay_at_checkout_in_minutes.notnull().sum()"
   ]
  },
  {
   "cell_type": "code",
   "execution_count": 118,
   "metadata": {},
   "outputs": [
    {
     "data": {
      "text/plain": [
       "count        1.0\n",
       "mean    -17468.0\n",
       "std          NaN\n",
       "min     -17468.0\n",
       "25%     -17468.0\n",
       "50%     -17468.0\n",
       "75%     -17468.0\n",
       "max     -17468.0\n",
       "Name: delay_at_checkout_in_minutes, dtype: float64"
      ]
     },
     "execution_count": 118,
     "metadata": {},
     "output_type": "execute_result"
    }
   ],
   "source": [
    "df_cancelled.delay_at_checkout_in_minutes.describe()"
   ]
  },
  {
   "cell_type": "code",
   "execution_count": 119,
   "metadata": {},
   "outputs": [
    {
     "data": {
      "text/html": [
       "<div>\n",
       "<style scoped>\n",
       "    .dataframe tbody tr th:only-of-type {\n",
       "        vertical-align: middle;\n",
       "    }\n",
       "\n",
       "    .dataframe tbody tr th {\n",
       "        vertical-align: top;\n",
       "    }\n",
       "\n",
       "    .dataframe thead th {\n",
       "        text-align: right;\n",
       "    }\n",
       "</style>\n",
       "<table border=\"1\" class=\"dataframe\">\n",
       "  <thead>\n",
       "    <tr style=\"text-align: right;\">\n",
       "      <th></th>\n",
       "      <th>rental_id</th>\n",
       "      <th>car_id</th>\n",
       "      <th>checkin_type</th>\n",
       "      <th>state</th>\n",
       "      <th>delay_at_checkout_in_minutes</th>\n",
       "      <th>previous_ended_rental_id</th>\n",
       "      <th>time_delta_with_previous_rental_in_minutes</th>\n",
       "    </tr>\n",
       "  </thead>\n",
       "  <tbody>\n",
       "    <tr>\n",
       "      <th>21002</th>\n",
       "      <td>559126</td>\n",
       "      <td>379544</td>\n",
       "      <td>mobile</td>\n",
       "      <td>canceled</td>\n",
       "      <td>-17468.0</td>\n",
       "      <td>NaN</td>\n",
       "      <td>NaN</td>\n",
       "    </tr>\n",
       "  </tbody>\n",
       "</table>\n",
       "</div>"
      ],
      "text/plain": [
       "       rental_id  car_id checkin_type     state  delay_at_checkout_in_minutes  \\\n",
       "21002     559126  379544       mobile  canceled                      -17468.0   \n",
       "\n",
       "       previous_ended_rental_id  time_delta_with_previous_rental_in_minutes  \n",
       "21002                       NaN                                         NaN  "
      ]
     },
     "execution_count": 119,
     "metadata": {},
     "output_type": "execute_result"
    }
   ],
   "source": [
    "df_cancelled[df_cancelled['delay_at_checkout_in_minutes'] == -17468]"
   ]
  },
  {
   "cell_type": "code",
   "execution_count": 120,
   "metadata": {},
   "outputs": [
    {
     "data": {
      "text/html": [
       "<div>\n",
       "<style scoped>\n",
       "    .dataframe tbody tr th:only-of-type {\n",
       "        vertical-align: middle;\n",
       "    }\n",
       "\n",
       "    .dataframe tbody tr th {\n",
       "        vertical-align: top;\n",
       "    }\n",
       "\n",
       "    .dataframe thead th {\n",
       "        text-align: right;\n",
       "    }\n",
       "</style>\n",
       "<table border=\"1\" class=\"dataframe\">\n",
       "  <thead>\n",
       "    <tr style=\"text-align: right;\">\n",
       "      <th></th>\n",
       "      <th>rental_id</th>\n",
       "      <th>car_id</th>\n",
       "      <th>checkin_type</th>\n",
       "      <th>state</th>\n",
       "      <th>delay_at_checkout_in_minutes</th>\n",
       "      <th>previous_ended_rental_id</th>\n",
       "      <th>time_delta_with_previous_rental_in_minutes</th>\n",
       "    </tr>\n",
       "  </thead>\n",
       "  <tbody>\n",
       "    <tr>\n",
       "      <th>2446</th>\n",
       "      <td>546387</td>\n",
       "      <td>352528</td>\n",
       "      <td>connect</td>\n",
       "      <td>canceled</td>\n",
       "      <td>NaN</td>\n",
       "      <td>546578.0</td>\n",
       "      <td>600.0</td>\n",
       "    </tr>\n",
       "    <tr>\n",
       "      <th>6771</th>\n",
       "      <td>568659</td>\n",
       "      <td>317378</td>\n",
       "      <td>connect</td>\n",
       "      <td>canceled</td>\n",
       "      <td>NaN</td>\n",
       "      <td>566412.0</td>\n",
       "      <td>600.0</td>\n",
       "    </tr>\n",
       "    <tr>\n",
       "      <th>8134</th>\n",
       "      <td>528949</td>\n",
       "      <td>383144</td>\n",
       "      <td>connect</td>\n",
       "      <td>canceled</td>\n",
       "      <td>NaN</td>\n",
       "      <td>540254.0</td>\n",
       "      <td>600.0</td>\n",
       "    </tr>\n",
       "    <tr>\n",
       "      <th>8871</th>\n",
       "      <td>539164</td>\n",
       "      <td>364464</td>\n",
       "      <td>connect</td>\n",
       "      <td>canceled</td>\n",
       "      <td>NaN</td>\n",
       "      <td>537569.0</td>\n",
       "      <td>600.0</td>\n",
       "    </tr>\n",
       "    <tr>\n",
       "      <th>9393</th>\n",
       "      <td>542034</td>\n",
       "      <td>280406</td>\n",
       "      <td>mobile</td>\n",
       "      <td>canceled</td>\n",
       "      <td>NaN</td>\n",
       "      <td>540818.0</td>\n",
       "      <td>600.0</td>\n",
       "    </tr>\n",
       "    <tr>\n",
       "      <th>9523</th>\n",
       "      <td>535520</td>\n",
       "      <td>374169</td>\n",
       "      <td>connect</td>\n",
       "      <td>canceled</td>\n",
       "      <td>NaN</td>\n",
       "      <td>564202.0</td>\n",
       "      <td>600.0</td>\n",
       "    </tr>\n",
       "    <tr>\n",
       "      <th>11073</th>\n",
       "      <td>562896</td>\n",
       "      <td>376677</td>\n",
       "      <td>connect</td>\n",
       "      <td>canceled</td>\n",
       "      <td>NaN</td>\n",
       "      <td>563347.0</td>\n",
       "      <td>600.0</td>\n",
       "    </tr>\n",
       "    <tr>\n",
       "      <th>13107</th>\n",
       "      <td>536440</td>\n",
       "      <td>392633</td>\n",
       "      <td>mobile</td>\n",
       "      <td>canceled</td>\n",
       "      <td>NaN</td>\n",
       "      <td>553304.0</td>\n",
       "      <td>600.0</td>\n",
       "    </tr>\n",
       "    <tr>\n",
       "      <th>13178</th>\n",
       "      <td>549066</td>\n",
       "      <td>409663</td>\n",
       "      <td>mobile</td>\n",
       "      <td>canceled</td>\n",
       "      <td>NaN</td>\n",
       "      <td>544279.0</td>\n",
       "      <td>600.0</td>\n",
       "    </tr>\n",
       "    <tr>\n",
       "      <th>13934</th>\n",
       "      <td>570917</td>\n",
       "      <td>411523</td>\n",
       "      <td>mobile</td>\n",
       "      <td>canceled</td>\n",
       "      <td>NaN</td>\n",
       "      <td>568349.0</td>\n",
       "      <td>600.0</td>\n",
       "    </tr>\n",
       "    <tr>\n",
       "      <th>14183</th>\n",
       "      <td>556983</td>\n",
       "      <td>338969</td>\n",
       "      <td>connect</td>\n",
       "      <td>canceled</td>\n",
       "      <td>NaN</td>\n",
       "      <td>552161.0</td>\n",
       "      <td>600.0</td>\n",
       "    </tr>\n",
       "    <tr>\n",
       "      <th>14426</th>\n",
       "      <td>536171</td>\n",
       "      <td>392368</td>\n",
       "      <td>connect</td>\n",
       "      <td>canceled</td>\n",
       "      <td>NaN</td>\n",
       "      <td>515799.0</td>\n",
       "      <td>600.0</td>\n",
       "    </tr>\n",
       "    <tr>\n",
       "      <th>15700</th>\n",
       "      <td>543223</td>\n",
       "      <td>376311</td>\n",
       "      <td>connect</td>\n",
       "      <td>canceled</td>\n",
       "      <td>NaN</td>\n",
       "      <td>560879.0</td>\n",
       "      <td>600.0</td>\n",
       "    </tr>\n",
       "    <tr>\n",
       "      <th>17151</th>\n",
       "      <td>564664</td>\n",
       "      <td>361789</td>\n",
       "      <td>mobile</td>\n",
       "      <td>canceled</td>\n",
       "      <td>NaN</td>\n",
       "      <td>564691.0</td>\n",
       "      <td>600.0</td>\n",
       "    </tr>\n",
       "    <tr>\n",
       "      <th>17870</th>\n",
       "      <td>568519</td>\n",
       "      <td>295783</td>\n",
       "      <td>connect</td>\n",
       "      <td>canceled</td>\n",
       "      <td>NaN</td>\n",
       "      <td>561162.0</td>\n",
       "      <td>600.0</td>\n",
       "    </tr>\n",
       "    <tr>\n",
       "      <th>18343</th>\n",
       "      <td>538543</td>\n",
       "      <td>330013</td>\n",
       "      <td>mobile</td>\n",
       "      <td>canceled</td>\n",
       "      <td>NaN</td>\n",
       "      <td>540896.0</td>\n",
       "      <td>600.0</td>\n",
       "    </tr>\n",
       "  </tbody>\n",
       "</table>\n",
       "</div>"
      ],
      "text/plain": [
       "       rental_id  car_id checkin_type     state  delay_at_checkout_in_minutes  \\\n",
       "2446      546387  352528      connect  canceled                           NaN   \n",
       "6771      568659  317378      connect  canceled                           NaN   \n",
       "8134      528949  383144      connect  canceled                           NaN   \n",
       "8871      539164  364464      connect  canceled                           NaN   \n",
       "9393      542034  280406       mobile  canceled                           NaN   \n",
       "9523      535520  374169      connect  canceled                           NaN   \n",
       "11073     562896  376677      connect  canceled                           NaN   \n",
       "13107     536440  392633       mobile  canceled                           NaN   \n",
       "13178     549066  409663       mobile  canceled                           NaN   \n",
       "13934     570917  411523       mobile  canceled                           NaN   \n",
       "14183     556983  338969      connect  canceled                           NaN   \n",
       "14426     536171  392368      connect  canceled                           NaN   \n",
       "15700     543223  376311      connect  canceled                           NaN   \n",
       "17151     564664  361789       mobile  canceled                           NaN   \n",
       "17870     568519  295783      connect  canceled                           NaN   \n",
       "18343     538543  330013       mobile  canceled                           NaN   \n",
       "\n",
       "       previous_ended_rental_id  time_delta_with_previous_rental_in_minutes  \n",
       "2446                   546578.0                                       600.0  \n",
       "6771                   566412.0                                       600.0  \n",
       "8134                   540254.0                                       600.0  \n",
       "8871                   537569.0                                       600.0  \n",
       "9393                   540818.0                                       600.0  \n",
       "9523                   564202.0                                       600.0  \n",
       "11073                  563347.0                                       600.0  \n",
       "13107                  553304.0                                       600.0  \n",
       "13178                  544279.0                                       600.0  \n",
       "13934                  568349.0                                       600.0  \n",
       "14183                  552161.0                                       600.0  \n",
       "14426                  515799.0                                       600.0  \n",
       "15700                  560879.0                                       600.0  \n",
       "17151                  564691.0                                       600.0  \n",
       "17870                  561162.0                                       600.0  \n",
       "18343                  540896.0                                       600.0  "
      ]
     },
     "execution_count": 120,
     "metadata": {},
     "output_type": "execute_result"
    }
   ],
   "source": [
    "df_cancelled[df_cancelled['time_delta_with_previous_rental_in_minutes'] == 600]"
   ]
  },
  {
   "cell_type": "markdown",
   "metadata": {},
   "source": [
    "## Drivers on time vs drivers late for check-out"
   ]
  },
  {
   "cell_type": "code",
   "execution_count": 145,
   "metadata": {},
   "outputs": [
    {
     "name": "stdout",
     "output_type": "stream",
     "text": [
      "Percentage of drivers who returned their car on time or before the scheduled time: \n",
      "32.57625527921164\n"
     ]
    }
   ],
   "source": [
    "\n",
    "drivers_on_time = (100 * (df['delay_at_checkout_in_minutes'] <= 0).sum() / df.shape[0])\n",
    "print(\"Percentage of drivers who returned their car on time or before the scheduled time: \")\n",
    "print(drivers_on_time)"
   ]
  },
  {
   "cell_type": "code",
   "execution_count": 146,
   "metadata": {},
   "outputs": [
    {
     "name": "stdout",
     "output_type": "stream",
     "text": [
      "Number of drivers late for check-out:  9404\n",
      "\n",
      "Percentage of drivers late for check-out: \n",
      "44.12951665884561\n"
     ]
    }
   ],
   "source": [
    "drivers_late = (df['delay_at_checkout_in_minutes'] > 0).sum()\n",
    "print(f\"Number of drivers late for check-out: \", drivers_late)\n",
    "\n",
    "print()\n",
    "percentage_drivers_late = (100 * (df['delay_at_checkout_in_minutes'] > 0).sum() / df.shape[0])\n",
    "print(\"Percentage of drivers late for check-out: \")\n",
    "print(percentage_drivers_late)"
   ]
  },
  {
   "cell_type": "markdown",
   "metadata": {},
   "source": [
    "There are more drivers who are late for the check-out than drivers on time:\n",
    "\n",
    "32,5% of drivers returned their car on time or before the scheduled time.\n",
    "44% of drivers are late for check-out."
   ]
  },
  {
   "cell_type": "markdown",
   "metadata": {},
   "source": [
    "How does it impact the next driver?\n"
   ]
  },
  {
   "cell_type": "markdown",
   "metadata": {},
   "source": [
    "44 % of drivers are late for check-out and therefore the cars are late for the next check-in. \n",
    "\n",
    "When this happens, the minimum waiting time was 30 minutes and 720 minutes in worst case scenario. 75% of the clients, who received a car handed-in with a delay in the check-out, waited up to 600 minutes, 50% of them waited up to 240 minutes. On average this group of clients had to wait 329 minutes, but with a standard deviation of 244 minutes. \n",
    "\n",
    "The dataset doesn't show any data when the time difference between two rentals is more than 12 hours. "
   ]
  },
  {
   "cell_type": "code",
   "execution_count": 147,
   "metadata": {},
   "outputs": [
    {
     "data": {
      "application/vnd.plotly.v1+json": {
       "config": {
        "plotlyServerURL": "https://plot.ly"
       },
       "data": [
        {
         "marker": {
          "color": [
           "skyblue",
           "lightcoral",
           "lightgreen"
          ]
         },
         "text": [
          "44.13%",
          "32.58%"
         ],
         "textposition": "auto",
         "type": "bar",
         "x": [
          "Drivers Late",
          "Drivers On Time"
         ],
         "y": [
          44.12951665884561,
          32.57625527921164
         ]
        }
       ],
       "layout": {
        "template": {
         "data": {
          "candlestick": [
           {
            "decreasing": {
             "line": {
              "color": "#000033"
             }
            },
            "increasing": {
             "line": {
              "color": "#000032"
             }
            },
            "type": "candlestick"
           }
          ],
          "contour": [
           {
            "colorscale": [
             [
              0,
              "#000011"
             ],
             [
              0.1111111111111111,
              "#000012"
             ],
             [
              0.2222222222222222,
              "#000013"
             ],
             [
              0.3333333333333333,
              "#000014"
             ],
             [
              0.4444444444444444,
              "#000015"
             ],
             [
              0.5555555555555556,
              "#000016"
             ],
             [
              0.6666666666666666,
              "#000017"
             ],
             [
              0.7777777777777778,
              "#000018"
             ],
             [
              0.8888888888888888,
              "#000019"
             ],
             [
              1,
              "#000020"
             ]
            ],
            "type": "contour"
           }
          ],
          "contourcarpet": [
           {
            "colorscale": [
             [
              0,
              "#000011"
             ],
             [
              0.1111111111111111,
              "#000012"
             ],
             [
              0.2222222222222222,
              "#000013"
             ],
             [
              0.3333333333333333,
              "#000014"
             ],
             [
              0.4444444444444444,
              "#000015"
             ],
             [
              0.5555555555555556,
              "#000016"
             ],
             [
              0.6666666666666666,
              "#000017"
             ],
             [
              0.7777777777777778,
              "#000018"
             ],
             [
              0.8888888888888888,
              "#000019"
             ],
             [
              1,
              "#000020"
             ]
            ],
            "type": "contourcarpet"
           }
          ],
          "heatmap": [
           {
            "colorscale": [
             [
              0,
              "#000011"
             ],
             [
              0.1111111111111111,
              "#000012"
             ],
             [
              0.2222222222222222,
              "#000013"
             ],
             [
              0.3333333333333333,
              "#000014"
             ],
             [
              0.4444444444444444,
              "#000015"
             ],
             [
              0.5555555555555556,
              "#000016"
             ],
             [
              0.6666666666666666,
              "#000017"
             ],
             [
              0.7777777777777778,
              "#000018"
             ],
             [
              0.8888888888888888,
              "#000019"
             ],
             [
              1,
              "#000020"
             ]
            ],
            "type": "heatmap"
           }
          ],
          "histogram2d": [
           {
            "colorscale": [
             [
              0,
              "#000011"
             ],
             [
              0.1111111111111111,
              "#000012"
             ],
             [
              0.2222222222222222,
              "#000013"
             ],
             [
              0.3333333333333333,
              "#000014"
             ],
             [
              0.4444444444444444,
              "#000015"
             ],
             [
              0.5555555555555556,
              "#000016"
             ],
             [
              0.6666666666666666,
              "#000017"
             ],
             [
              0.7777777777777778,
              "#000018"
             ],
             [
              0.8888888888888888,
              "#000019"
             ],
             [
              1,
              "#000020"
             ]
            ],
            "type": "histogram2d"
           }
          ],
          "icicle": [
           {
            "textfont": {
             "color": "white"
            },
            "type": "icicle"
           }
          ],
          "sankey": [
           {
            "textfont": {
             "color": "#000036"
            },
            "type": "sankey"
           }
          ],
          "scatter": [
           {
            "marker": {
             "line": {
              "width": 0
             }
            },
            "type": "scatter"
           }
          ],
          "table": [
           {
            "cells": {
             "fill": {
              "color": "#000038"
             },
             "font": {
              "color": "#000037"
             },
             "line": {
              "color": "#000039"
             }
            },
            "header": {
             "fill": {
              "color": "#000040"
             },
             "font": {
              "color": "#000036"
             },
             "line": {
              "color": "#000039"
             }
            },
            "type": "table"
           }
          ],
          "waterfall": [
           {
            "connector": {
             "line": {
              "color": "#000036",
              "width": 2
             }
            },
            "decreasing": {
             "marker": {
              "color": "#000033"
             }
            },
            "increasing": {
             "marker": {
              "color": "#000032"
             }
            },
            "totals": {
             "marker": {
              "color": "#000034"
             }
            },
            "type": "waterfall"
           }
          ]
         },
         "layout": {
          "coloraxis": {
           "colorscale": [
            [
             0,
             "#000011"
            ],
            [
             0.1111111111111111,
             "#000012"
            ],
            [
             0.2222222222222222,
             "#000013"
            ],
            [
             0.3333333333333333,
             "#000014"
            ],
            [
             0.4444444444444444,
             "#000015"
            ],
            [
             0.5555555555555556,
             "#000016"
            ],
            [
             0.6666666666666666,
             "#000017"
            ],
            [
             0.7777777777777778,
             "#000018"
            ],
            [
             0.8888888888888888,
             "#000019"
            ],
            [
             1,
             "#000020"
            ]
           ]
          },
          "colorscale": {
           "diverging": [
            [
             0,
             "#000021"
            ],
            [
             0.1,
             "#000022"
            ],
            [
             0.2,
             "#000023"
            ],
            [
             0.3,
             "#000024"
            ],
            [
             0.4,
             "#000025"
            ],
            [
             0.5,
             "#000026"
            ],
            [
             0.6,
             "#000027"
            ],
            [
             0.7,
             "#000028"
            ],
            [
             0.8,
             "#000029"
            ],
            [
             0.9,
             "#000030"
            ],
            [
             1,
             "#000031"
            ]
           ],
           "sequential": [
            [
             0,
             "#000011"
            ],
            [
             0.1111111111111111,
             "#000012"
            ],
            [
             0.2222222222222222,
             "#000013"
            ],
            [
             0.3333333333333333,
             "#000014"
            ],
            [
             0.4444444444444444,
             "#000015"
            ],
            [
             0.5555555555555556,
             "#000016"
            ],
            [
             0.6666666666666666,
             "#000017"
            ],
            [
             0.7777777777777778,
             "#000018"
            ],
            [
             0.8888888888888888,
             "#000019"
            ],
            [
             1,
             "#000020"
            ]
           ],
           "sequentialminus": [
            [
             0,
             "#000011"
            ],
            [
             0.1111111111111111,
             "#000012"
            ],
            [
             0.2222222222222222,
             "#000013"
            ],
            [
             0.3333333333333333,
             "#000014"
            ],
            [
             0.4444444444444444,
             "#000015"
            ],
            [
             0.5555555555555556,
             "#000016"
            ],
            [
             0.6666666666666666,
             "#000017"
            ],
            [
             0.7777777777777778,
             "#000018"
            ],
            [
             0.8888888888888888,
             "#000019"
            ],
            [
             1,
             "#000020"
            ]
           ]
          },
          "colorway": [
           "#000001",
           "#000002",
           "#000003",
           "#000004",
           "#000005",
           "#000006",
           "#000007",
           "#000008",
           "#000009",
           "#000010"
          ]
         }
        },
        "title": {
         "text": "Percentage of Rentals Concerned and Drivers Status"
        },
        "yaxis": {
         "range": [
          0,
          100
         ],
         "title": {
          "text": "Percentage (%)"
         }
        }
       }
      }
     },
     "metadata": {},
     "output_type": "display_data"
    }
   ],
   "source": [
    "import plotly.graph_objects as go\n",
    "\n",
    "\n",
    "# Data for the bar chart\n",
    "labels = ['Drivers Late', 'Drivers On Time']\n",
    "values = [percentage_drivers_late, drivers_on_time]\n",
    "\n",
    "# Create the bar chart\n",
    "fig = go.Figure(\n",
    "    go.Bar(\n",
    "        x=labels, \n",
    "        y=values,\n",
    "        marker_color=['skyblue', 'lightcoral', 'lightgreen'],\n",
    "        text=[f'{val:.2f}%' for val in values],\n",
    "        textposition='auto'\n",
    "    )\n",
    ")\n",
    "\n",
    "# Customize the layout\n",
    "fig.update_layout(\n",
    "    title='Percentage of Rentals Concerned and Drivers Status',\n",
    "    yaxis_title='Percentage (%)',\n",
    "    yaxis_range=[0, 100]\n",
    ")\n",
    "\n",
    "# Display the chart\n",
    "fig.show()\n"
   ]
  },
  {
   "cell_type": "code",
   "execution_count": 124,
   "metadata": {},
   "outputs": [
    {
     "data": {
      "text/plain": [
       "1841"
      ]
     },
     "execution_count": 124,
     "metadata": {},
     "output_type": "execute_result"
    }
   ],
   "source": [
    "df.time_delta_with_previous_rental_in_minutes.notnull().sum()"
   ]
  },
  {
   "cell_type": "code",
   "execution_count": 148,
   "metadata": {},
   "outputs": [
    {
     "data": {
      "text/plain": [
       "1841"
      ]
     },
     "execution_count": 148,
     "metadata": {},
     "output_type": "execute_result"
    }
   ],
   "source": [
    "df.previous_ended_rental_id.notnull().sum()"
   ]
  },
  {
   "cell_type": "code",
   "execution_count": 183,
   "metadata": {},
   "outputs": [
    {
     "data": {
      "text/plain": [
       "(21310, 7)"
      ]
     },
     "execution_count": 183,
     "metadata": {},
     "output_type": "execute_result"
    }
   ],
   "source": [
    "df.shape"
   ]
  },
  {
   "cell_type": "code",
   "execution_count": 179,
   "metadata": {},
   "outputs": [
    {
     "data": {
      "text/html": [
       "<div>\n",
       "<style scoped>\n",
       "    .dataframe tbody tr th:only-of-type {\n",
       "        vertical-align: middle;\n",
       "    }\n",
       "\n",
       "    .dataframe tbody tr th {\n",
       "        vertical-align: top;\n",
       "    }\n",
       "\n",
       "    .dataframe thead th {\n",
       "        text-align: right;\n",
       "    }\n",
       "</style>\n",
       "<table border=\"1\" class=\"dataframe\">\n",
       "  <thead>\n",
       "    <tr style=\"text-align: right;\">\n",
       "      <th></th>\n",
       "      <th>rental_id</th>\n",
       "      <th>car_id</th>\n",
       "      <th>delay_at_checkout_in_minutes</th>\n",
       "      <th>previous_ended_rental_id</th>\n",
       "      <th>time_delta_with_previous_rental_in_minutes</th>\n",
       "    </tr>\n",
       "  </thead>\n",
       "  <tbody>\n",
       "    <tr>\n",
       "      <th>count</th>\n",
       "      <td>1562.000000</td>\n",
       "      <td>1562.000000</td>\n",
       "      <td>1288.000000</td>\n",
       "      <td>1562.000000</td>\n",
       "      <td>1562.000000</td>\n",
       "    </tr>\n",
       "    <tr>\n",
       "      <th>mean</th>\n",
       "      <td>552354.698464</td>\n",
       "      <td>351153.017926</td>\n",
       "      <td>24.229814</td>\n",
       "      <td>550209.788732</td>\n",
       "      <td>329.174136</td>\n",
       "    </tr>\n",
       "    <tr>\n",
       "      <th>std</th>\n",
       "      <td>12990.708193</td>\n",
       "      <td>55287.921131</td>\n",
       "      <td>445.778648</td>\n",
       "      <td>13169.364374</td>\n",
       "      <td>244.891476</td>\n",
       "    </tr>\n",
       "    <tr>\n",
       "      <th>min</th>\n",
       "      <td>505560.000000</td>\n",
       "      <td>159533.000000</td>\n",
       "      <td>-2676.000000</td>\n",
       "      <td>505628.000000</td>\n",
       "      <td>30.000000</td>\n",
       "    </tr>\n",
       "    <tr>\n",
       "      <th>25%</th>\n",
       "      <td>543791.250000</td>\n",
       "      <td>324307.750000</td>\n",
       "      <td>-48.250000</td>\n",
       "      <td>540903.000000</td>\n",
       "      <td>120.000000</td>\n",
       "    </tr>\n",
       "    <tr>\n",
       "      <th>50%</th>\n",
       "      <td>552602.000000</td>\n",
       "      <td>367627.000000</td>\n",
       "      <td>3.000000</td>\n",
       "      <td>550666.000000</td>\n",
       "      <td>240.000000</td>\n",
       "    </tr>\n",
       "    <tr>\n",
       "      <th>75%</th>\n",
       "      <td>562476.000000</td>\n",
       "      <td>391593.250000</td>\n",
       "      <td>51.000000</td>\n",
       "      <td>560786.750000</td>\n",
       "      <td>600.000000</td>\n",
       "    </tr>\n",
       "    <tr>\n",
       "      <th>max</th>\n",
       "      <td>576292.000000</td>\n",
       "      <td>415953.000000</td>\n",
       "      <td>9787.000000</td>\n",
       "      <td>575053.000000</td>\n",
       "      <td>720.000000</td>\n",
       "    </tr>\n",
       "  </tbody>\n",
       "</table>\n",
       "</div>"
      ],
      "text/plain": [
       "           rental_id         car_id  delay_at_checkout_in_minutes  \\\n",
       "count    1562.000000    1562.000000                   1288.000000   \n",
       "mean   552354.698464  351153.017926                     24.229814   \n",
       "std     12990.708193   55287.921131                    445.778648   \n",
       "min    505560.000000  159533.000000                  -2676.000000   \n",
       "25%    543791.250000  324307.750000                    -48.250000   \n",
       "50%    552602.000000  367627.000000                      3.000000   \n",
       "75%    562476.000000  391593.250000                     51.000000   \n",
       "max    576292.000000  415953.000000                   9787.000000   \n",
       "\n",
       "       previous_ended_rental_id  time_delta_with_previous_rental_in_minutes  \n",
       "count               1562.000000                                 1562.000000  \n",
       "mean              550209.788732                                  329.174136  \n",
       "std                13169.364374                                  244.891476  \n",
       "min               505628.000000                                   30.000000  \n",
       "25%               540903.000000                                  120.000000  \n",
       "50%               550666.000000                                  240.000000  \n",
       "75%               560786.750000                                  600.000000  \n",
       "max               575053.000000                                  720.000000  "
      ]
     },
     "execution_count": 179,
     "metadata": {},
     "output_type": "execute_result"
    }
   ],
   "source": [
    "df_late_checkin = df[df['time_delta_with_previous_rental_in_minutes'] > 0]\n",
    "df_late_checkin.describe()"
   ]
  },
  {
   "cell_type": "markdown",
   "metadata": {},
   "source": [
    "How many problematic cases will it solve depending on the chosen threshold and scope?\n"
   ]
  },
  {
   "cell_type": "code",
   "execution_count": 152,
   "metadata": {},
   "outputs": [],
   "source": [
    "df_prob = df[(df['time_delta_with_previous_rental_in_minutes'] > 0) & (df['delay_at_checkout_in_minutes'] > 0)]\n"
   ]
  },
  {
   "cell_type": "code",
   "execution_count": 154,
   "metadata": {},
   "outputs": [
    {
     "data": {
      "text/plain": [
       "state\n",
       "ended    666\n",
       "Name: count, dtype: int64"
      ]
     },
     "execution_count": 154,
     "metadata": {},
     "output_type": "execute_result"
    }
   ],
   "source": [
    "df_prob.state.value_counts()"
   ]
  },
  {
   "cell_type": "code",
   "execution_count": 155,
   "metadata": {},
   "outputs": [
    {
     "name": "stdout",
     "output_type": "stream",
     "text": [
      "It would resolve 666 problematic cases\n",
      "This means 3.13% of cases over the total of rentals\n"
     ]
    }
   ],
   "source": [
    "prob_cases = ((df['time_delta_with_previous_rental_in_minutes'] > 0) & (df['delay_at_checkout_in_minutes']>0)).sum()\n",
    "print(f\"It would resolve\", prob_cases, \"problematic cases\") \n",
    "\n",
    "print(f\"This means {(100 * prob_cases) / df.shape[0]:.2f}% of cases over the total of rentals\")"
   ]
  },
  {
   "cell_type": "code",
   "execution_count": 157,
   "metadata": {},
   "outputs": [
    {
     "data": {
      "text/plain": [
       "count       229.000000\n",
       "mean     550913.327511\n",
       "std       11955.397600\n",
       "min      509972.000000\n",
       "25%      543706.000000\n",
       "50%      550970.000000\n",
       "75%      560395.000000\n",
       "max      574540.000000\n",
       "Name: previous_ended_rental_id, dtype: float64"
      ]
     },
     "execution_count": 157,
     "metadata": {},
     "output_type": "execute_result"
    }
   ],
   "source": [
    "df_cancelled.previous_ended_rental_id.describe()"
   ]
  },
  {
   "cell_type": "markdown",
   "metadata": {},
   "source": [
    "It would resolve 666 problematic cases.\n",
    "This means 3.13% of cases over the total of rentals.\n",
    "it is worth underlining that, the are not cancelled cars within this problematic cases, because none of the cancelled cars was reported as being check-out in delay. "
   ]
  },
  {
   "cell_type": "markdown",
   "metadata": {},
   "source": [
    "## How many problematic cases would it solve depending on the chosen threshold and scope?\n"
   ]
  },
  {
   "cell_type": "markdown",
   "metadata": {},
   "source": [
    "Scope and threshold analysis"
   ]
  },
  {
   "cell_type": "code",
   "execution_count": 131,
   "metadata": {},
   "outputs": [
    {
     "data": {
      "text/plain": [
       "checkin_type\n",
       "mobile     17003\n",
       "connect     4307\n",
       "Name: count, dtype: int64"
      ]
     },
     "execution_count": 131,
     "metadata": {},
     "output_type": "execute_result"
    }
   ],
   "source": [
    "df.checkin_type.value_counts()"
   ]
  },
  {
   "cell_type": "code",
   "execution_count": 132,
   "metadata": {},
   "outputs": [],
   "source": [
    "# Assuming df contains the column 'checkin_type'\n",
    "checkin_counts = df['checkin_type'].value_counts()\n",
    "\n",
    "# Extracting data from value_counts()\n",
    "total_checkin_counts = checkin_counts.sum()\n",
    "\n",
    "percentages = (checkin_counts/total_checkin_counts) *100"
   ]
  },
  {
   "cell_type": "code",
   "execution_count": 30,
   "metadata": {},
   "outputs": [
    {
     "data": {
      "application/vnd.plotly.v1+json": {
       "config": {
        "plotlyServerURL": "https://plot.ly"
       },
       "data": [
        {
         "marker": {
          "color": [
           "skyblue",
           "lightcoral"
          ]
         },
         "text": [
          "79.79",
          "20.21"
         ],
         "textposition": "auto",
         "type": "bar",
         "x": [
          "mobile",
          "connect"
         ],
         "y": [
          79.78883153449084,
          20.21116846550915
         ]
        }
       ],
       "layout": {
        "template": {
         "data": {
          "bar": [
           {
            "error_x": {
             "color": "#2a3f5f"
            },
            "error_y": {
             "color": "#2a3f5f"
            },
            "marker": {
             "line": {
              "color": "#E5ECF6",
              "width": 0.5
             },
             "pattern": {
              "fillmode": "overlay",
              "size": 10,
              "solidity": 0.2
             }
            },
            "type": "bar"
           }
          ],
          "barpolar": [
           {
            "marker": {
             "line": {
              "color": "#E5ECF6",
              "width": 0.5
             },
             "pattern": {
              "fillmode": "overlay",
              "size": 10,
              "solidity": 0.2
             }
            },
            "type": "barpolar"
           }
          ],
          "carpet": [
           {
            "aaxis": {
             "endlinecolor": "#2a3f5f",
             "gridcolor": "white",
             "linecolor": "white",
             "minorgridcolor": "white",
             "startlinecolor": "#2a3f5f"
            },
            "baxis": {
             "endlinecolor": "#2a3f5f",
             "gridcolor": "white",
             "linecolor": "white",
             "minorgridcolor": "white",
             "startlinecolor": "#2a3f5f"
            },
            "type": "carpet"
           }
          ],
          "choropleth": [
           {
            "colorbar": {
             "outlinewidth": 0,
             "ticks": ""
            },
            "type": "choropleth"
           }
          ],
          "contour": [
           {
            "colorbar": {
             "outlinewidth": 0,
             "ticks": ""
            },
            "colorscale": [
             [
              0,
              "#0d0887"
             ],
             [
              0.1111111111111111,
              "#46039f"
             ],
             [
              0.2222222222222222,
              "#7201a8"
             ],
             [
              0.3333333333333333,
              "#9c179e"
             ],
             [
              0.4444444444444444,
              "#bd3786"
             ],
             [
              0.5555555555555556,
              "#d8576b"
             ],
             [
              0.6666666666666666,
              "#ed7953"
             ],
             [
              0.7777777777777778,
              "#fb9f3a"
             ],
             [
              0.8888888888888888,
              "#fdca26"
             ],
             [
              1,
              "#f0f921"
             ]
            ],
            "type": "contour"
           }
          ],
          "contourcarpet": [
           {
            "colorbar": {
             "outlinewidth": 0,
             "ticks": ""
            },
            "type": "contourcarpet"
           }
          ],
          "heatmap": [
           {
            "colorbar": {
             "outlinewidth": 0,
             "ticks": ""
            },
            "colorscale": [
             [
              0,
              "#0d0887"
             ],
             [
              0.1111111111111111,
              "#46039f"
             ],
             [
              0.2222222222222222,
              "#7201a8"
             ],
             [
              0.3333333333333333,
              "#9c179e"
             ],
             [
              0.4444444444444444,
              "#bd3786"
             ],
             [
              0.5555555555555556,
              "#d8576b"
             ],
             [
              0.6666666666666666,
              "#ed7953"
             ],
             [
              0.7777777777777778,
              "#fb9f3a"
             ],
             [
              0.8888888888888888,
              "#fdca26"
             ],
             [
              1,
              "#f0f921"
             ]
            ],
            "type": "heatmap"
           }
          ],
          "heatmapgl": [
           {
            "colorbar": {
             "outlinewidth": 0,
             "ticks": ""
            },
            "colorscale": [
             [
              0,
              "#0d0887"
             ],
             [
              0.1111111111111111,
              "#46039f"
             ],
             [
              0.2222222222222222,
              "#7201a8"
             ],
             [
              0.3333333333333333,
              "#9c179e"
             ],
             [
              0.4444444444444444,
              "#bd3786"
             ],
             [
              0.5555555555555556,
              "#d8576b"
             ],
             [
              0.6666666666666666,
              "#ed7953"
             ],
             [
              0.7777777777777778,
              "#fb9f3a"
             ],
             [
              0.8888888888888888,
              "#fdca26"
             ],
             [
              1,
              "#f0f921"
             ]
            ],
            "type": "heatmapgl"
           }
          ],
          "histogram": [
           {
            "marker": {
             "pattern": {
              "fillmode": "overlay",
              "size": 10,
              "solidity": 0.2
             }
            },
            "type": "histogram"
           }
          ],
          "histogram2d": [
           {
            "colorbar": {
             "outlinewidth": 0,
             "ticks": ""
            },
            "colorscale": [
             [
              0,
              "#0d0887"
             ],
             [
              0.1111111111111111,
              "#46039f"
             ],
             [
              0.2222222222222222,
              "#7201a8"
             ],
             [
              0.3333333333333333,
              "#9c179e"
             ],
             [
              0.4444444444444444,
              "#bd3786"
             ],
             [
              0.5555555555555556,
              "#d8576b"
             ],
             [
              0.6666666666666666,
              "#ed7953"
             ],
             [
              0.7777777777777778,
              "#fb9f3a"
             ],
             [
              0.8888888888888888,
              "#fdca26"
             ],
             [
              1,
              "#f0f921"
             ]
            ],
            "type": "histogram2d"
           }
          ],
          "histogram2dcontour": [
           {
            "colorbar": {
             "outlinewidth": 0,
             "ticks": ""
            },
            "colorscale": [
             [
              0,
              "#0d0887"
             ],
             [
              0.1111111111111111,
              "#46039f"
             ],
             [
              0.2222222222222222,
              "#7201a8"
             ],
             [
              0.3333333333333333,
              "#9c179e"
             ],
             [
              0.4444444444444444,
              "#bd3786"
             ],
             [
              0.5555555555555556,
              "#d8576b"
             ],
             [
              0.6666666666666666,
              "#ed7953"
             ],
             [
              0.7777777777777778,
              "#fb9f3a"
             ],
             [
              0.8888888888888888,
              "#fdca26"
             ],
             [
              1,
              "#f0f921"
             ]
            ],
            "type": "histogram2dcontour"
           }
          ],
          "mesh3d": [
           {
            "colorbar": {
             "outlinewidth": 0,
             "ticks": ""
            },
            "type": "mesh3d"
           }
          ],
          "parcoords": [
           {
            "line": {
             "colorbar": {
              "outlinewidth": 0,
              "ticks": ""
             }
            },
            "type": "parcoords"
           }
          ],
          "pie": [
           {
            "automargin": true,
            "type": "pie"
           }
          ],
          "scatter": [
           {
            "fillpattern": {
             "fillmode": "overlay",
             "size": 10,
             "solidity": 0.2
            },
            "type": "scatter"
           }
          ],
          "scatter3d": [
           {
            "line": {
             "colorbar": {
              "outlinewidth": 0,
              "ticks": ""
             }
            },
            "marker": {
             "colorbar": {
              "outlinewidth": 0,
              "ticks": ""
             }
            },
            "type": "scatter3d"
           }
          ],
          "scattercarpet": [
           {
            "marker": {
             "colorbar": {
              "outlinewidth": 0,
              "ticks": ""
             }
            },
            "type": "scattercarpet"
           }
          ],
          "scattergeo": [
           {
            "marker": {
             "colorbar": {
              "outlinewidth": 0,
              "ticks": ""
             }
            },
            "type": "scattergeo"
           }
          ],
          "scattergl": [
           {
            "marker": {
             "colorbar": {
              "outlinewidth": 0,
              "ticks": ""
             }
            },
            "type": "scattergl"
           }
          ],
          "scattermapbox": [
           {
            "marker": {
             "colorbar": {
              "outlinewidth": 0,
              "ticks": ""
             }
            },
            "type": "scattermapbox"
           }
          ],
          "scatterpolar": [
           {
            "marker": {
             "colorbar": {
              "outlinewidth": 0,
              "ticks": ""
             }
            },
            "type": "scatterpolar"
           }
          ],
          "scatterpolargl": [
           {
            "marker": {
             "colorbar": {
              "outlinewidth": 0,
              "ticks": ""
             }
            },
            "type": "scatterpolargl"
           }
          ],
          "scatterternary": [
           {
            "marker": {
             "colorbar": {
              "outlinewidth": 0,
              "ticks": ""
             }
            },
            "type": "scatterternary"
           }
          ],
          "surface": [
           {
            "colorbar": {
             "outlinewidth": 0,
             "ticks": ""
            },
            "colorscale": [
             [
              0,
              "#0d0887"
             ],
             [
              0.1111111111111111,
              "#46039f"
             ],
             [
              0.2222222222222222,
              "#7201a8"
             ],
             [
              0.3333333333333333,
              "#9c179e"
             ],
             [
              0.4444444444444444,
              "#bd3786"
             ],
             [
              0.5555555555555556,
              "#d8576b"
             ],
             [
              0.6666666666666666,
              "#ed7953"
             ],
             [
              0.7777777777777778,
              "#fb9f3a"
             ],
             [
              0.8888888888888888,
              "#fdca26"
             ],
             [
              1,
              "#f0f921"
             ]
            ],
            "type": "surface"
           }
          ],
          "table": [
           {
            "cells": {
             "fill": {
              "color": "#EBF0F8"
             },
             "line": {
              "color": "white"
             }
            },
            "header": {
             "fill": {
              "color": "#C8D4E3"
             },
             "line": {
              "color": "white"
             }
            },
            "type": "table"
           }
          ]
         },
         "layout": {
          "annotationdefaults": {
           "arrowcolor": "#2a3f5f",
           "arrowhead": 0,
           "arrowwidth": 1
          },
          "autotypenumbers": "strict",
          "coloraxis": {
           "colorbar": {
            "outlinewidth": 0,
            "ticks": ""
           }
          },
          "colorscale": {
           "diverging": [
            [
             0,
             "#8e0152"
            ],
            [
             0.1,
             "#c51b7d"
            ],
            [
             0.2,
             "#de77ae"
            ],
            [
             0.3,
             "#f1b6da"
            ],
            [
             0.4,
             "#fde0ef"
            ],
            [
             0.5,
             "#f7f7f7"
            ],
            [
             0.6,
             "#e6f5d0"
            ],
            [
             0.7,
             "#b8e186"
            ],
            [
             0.8,
             "#7fbc41"
            ],
            [
             0.9,
             "#4d9221"
            ],
            [
             1,
             "#276419"
            ]
           ],
           "sequential": [
            [
             0,
             "#0d0887"
            ],
            [
             0.1111111111111111,
             "#46039f"
            ],
            [
             0.2222222222222222,
             "#7201a8"
            ],
            [
             0.3333333333333333,
             "#9c179e"
            ],
            [
             0.4444444444444444,
             "#bd3786"
            ],
            [
             0.5555555555555556,
             "#d8576b"
            ],
            [
             0.6666666666666666,
             "#ed7953"
            ],
            [
             0.7777777777777778,
             "#fb9f3a"
            ],
            [
             0.8888888888888888,
             "#fdca26"
            ],
            [
             1,
             "#f0f921"
            ]
           ],
           "sequentialminus": [
            [
             0,
             "#0d0887"
            ],
            [
             0.1111111111111111,
             "#46039f"
            ],
            [
             0.2222222222222222,
             "#7201a8"
            ],
            [
             0.3333333333333333,
             "#9c179e"
            ],
            [
             0.4444444444444444,
             "#bd3786"
            ],
            [
             0.5555555555555556,
             "#d8576b"
            ],
            [
             0.6666666666666666,
             "#ed7953"
            ],
            [
             0.7777777777777778,
             "#fb9f3a"
            ],
            [
             0.8888888888888888,
             "#fdca26"
            ],
            [
             1,
             "#f0f921"
            ]
           ]
          },
          "colorway": [
           "#636efa",
           "#EF553B",
           "#00cc96",
           "#ab63fa",
           "#FFA15A",
           "#19d3f3",
           "#FF6692",
           "#B6E880",
           "#FF97FF",
           "#FECB52"
          ],
          "font": {
           "color": "#2a3f5f"
          },
          "geo": {
           "bgcolor": "white",
           "lakecolor": "white",
           "landcolor": "#E5ECF6",
           "showlakes": true,
           "showland": true,
           "subunitcolor": "white"
          },
          "hoverlabel": {
           "align": "left"
          },
          "hovermode": "closest",
          "mapbox": {
           "style": "light"
          },
          "paper_bgcolor": "white",
          "plot_bgcolor": "#E5ECF6",
          "polar": {
           "angularaxis": {
            "gridcolor": "white",
            "linecolor": "white",
            "ticks": ""
           },
           "bgcolor": "#E5ECF6",
           "radialaxis": {
            "gridcolor": "white",
            "linecolor": "white",
            "ticks": ""
           }
          },
          "scene": {
           "xaxis": {
            "backgroundcolor": "#E5ECF6",
            "gridcolor": "white",
            "gridwidth": 2,
            "linecolor": "white",
            "showbackground": true,
            "ticks": "",
            "zerolinecolor": "white"
           },
           "yaxis": {
            "backgroundcolor": "#E5ECF6",
            "gridcolor": "white",
            "gridwidth": 2,
            "linecolor": "white",
            "showbackground": true,
            "ticks": "",
            "zerolinecolor": "white"
           },
           "zaxis": {
            "backgroundcolor": "#E5ECF6",
            "gridcolor": "white",
            "gridwidth": 2,
            "linecolor": "white",
            "showbackground": true,
            "ticks": "",
            "zerolinecolor": "white"
           }
          },
          "shapedefaults": {
           "line": {
            "color": "#2a3f5f"
           }
          },
          "ternary": {
           "aaxis": {
            "gridcolor": "white",
            "linecolor": "white",
            "ticks": ""
           },
           "baxis": {
            "gridcolor": "white",
            "linecolor": "white",
            "ticks": ""
           },
           "bgcolor": "#E5ECF6",
           "caxis": {
            "gridcolor": "white",
            "linecolor": "white",
            "ticks": ""
           }
          },
          "title": {
           "x": 0.05
          },
          "xaxis": {
           "automargin": true,
           "gridcolor": "white",
           "linecolor": "white",
           "ticks": "",
           "title": {
            "standoff": 15
           },
           "zerolinecolor": "white",
           "zerolinewidth": 2
          },
          "yaxis": {
           "automargin": true,
           "gridcolor": "white",
           "linecolor": "white",
           "ticks": "",
           "title": {
            "standoff": 15
           },
           "zerolinecolor": "white",
           "zerolinewidth": 2
          }
         }
        },
        "title": {
         "text": "Check-in Types Distribution"
        },
        "xaxis": {
         "title": {
          "text": "Check-in Type"
         }
        },
        "yaxis": {
         "title": {
          "text": "Number of Check-ins"
         }
        }
       }
      }
     },
     "metadata": {},
     "output_type": "display_data"
    }
   ],
   "source": [
    "labels = percentages.index.tolist()\n",
    "values = percentages.values.tolist()\n",
    "\n",
    "\n",
    "\n",
    "\n",
    "# Create the bar chart\n",
    "fig = go.Figure(\n",
    "    go.Bar(\n",
    "        x=labels, \n",
    "        y=values,\n",
    "        marker_color=['skyblue', 'lightcoral'],\n",
    "        text=[f'{val:.2f}' for val in values],\n",
    "        textposition='auto'\n",
    "    )\n",
    ")\n",
    "\n",
    "# Customize the layout\n",
    "fig.update_layout(\n",
    "    title='Check-in Types Distribution',\n",
    "    yaxis_title='Number of Check-ins',\n",
    "    xaxis_title='Check-in Type'\n",
    ")\n",
    "\n",
    "# Display the chart\n",
    "fig.show()\n"
   ]
  },
  {
   "cell_type": "code",
   "execution_count": 158,
   "metadata": {},
   "outputs": [
    {
     "data": {
      "text/html": [
       "<div>\n",
       "<style scoped>\n",
       "    .dataframe tbody tr th:only-of-type {\n",
       "        vertical-align: middle;\n",
       "    }\n",
       "\n",
       "    .dataframe tbody tr th {\n",
       "        vertical-align: top;\n",
       "    }\n",
       "\n",
       "    .dataframe thead th {\n",
       "        text-align: right;\n",
       "    }\n",
       "</style>\n",
       "<table border=\"1\" class=\"dataframe\">\n",
       "  <thead>\n",
       "    <tr style=\"text-align: right;\">\n",
       "      <th></th>\n",
       "      <th>rental_id</th>\n",
       "      <th>car_id</th>\n",
       "      <th>checkin_type</th>\n",
       "      <th>state</th>\n",
       "      <th>delay_at_checkout_in_minutes</th>\n",
       "      <th>previous_ended_rental_id</th>\n",
       "      <th>time_delta_with_previous_rental_in_minutes</th>\n",
       "    </tr>\n",
       "  </thead>\n",
       "  <tbody>\n",
       "    <tr>\n",
       "      <th>0</th>\n",
       "      <td>505000</td>\n",
       "      <td>363965</td>\n",
       "      <td>mobile</td>\n",
       "      <td>canceled</td>\n",
       "      <td>NaN</td>\n",
       "      <td>NaN</td>\n",
       "      <td>NaN</td>\n",
       "    </tr>\n",
       "    <tr>\n",
       "      <th>1</th>\n",
       "      <td>507750</td>\n",
       "      <td>269550</td>\n",
       "      <td>mobile</td>\n",
       "      <td>ended</td>\n",
       "      <td>-81.0</td>\n",
       "      <td>NaN</td>\n",
       "      <td>NaN</td>\n",
       "    </tr>\n",
       "    <tr>\n",
       "      <th>4</th>\n",
       "      <td>511440</td>\n",
       "      <td>313932</td>\n",
       "      <td>mobile</td>\n",
       "      <td>ended</td>\n",
       "      <td>NaN</td>\n",
       "      <td>NaN</td>\n",
       "      <td>NaN</td>\n",
       "    </tr>\n",
       "    <tr>\n",
       "      <th>5</th>\n",
       "      <td>511626</td>\n",
       "      <td>398802</td>\n",
       "      <td>mobile</td>\n",
       "      <td>ended</td>\n",
       "      <td>-203.0</td>\n",
       "      <td>NaN</td>\n",
       "      <td>NaN</td>\n",
       "    </tr>\n",
       "    <tr>\n",
       "      <th>7</th>\n",
       "      <td>512303</td>\n",
       "      <td>371242</td>\n",
       "      <td>mobile</td>\n",
       "      <td>ended</td>\n",
       "      <td>-44.0</td>\n",
       "      <td>NaN</td>\n",
       "      <td>NaN</td>\n",
       "    </tr>\n",
       "    <tr>\n",
       "      <th>...</th>\n",
       "      <td>...</td>\n",
       "      <td>...</td>\n",
       "      <td>...</td>\n",
       "      <td>...</td>\n",
       "      <td>...</td>\n",
       "      <td>...</td>\n",
       "      <td>...</td>\n",
       "    </tr>\n",
       "    <tr>\n",
       "      <th>21302</th>\n",
       "      <td>573285</td>\n",
       "      <td>394863</td>\n",
       "      <td>mobile</td>\n",
       "      <td>ended</td>\n",
       "      <td>NaN</td>\n",
       "      <td>NaN</td>\n",
       "      <td>NaN</td>\n",
       "    </tr>\n",
       "    <tr>\n",
       "      <th>21303</th>\n",
       "      <td>573305</td>\n",
       "      <td>392752</td>\n",
       "      <td>mobile</td>\n",
       "      <td>ended</td>\n",
       "      <td>72.0</td>\n",
       "      <td>NaN</td>\n",
       "      <td>NaN</td>\n",
       "    </tr>\n",
       "    <tr>\n",
       "      <th>21305</th>\n",
       "      <td>573446</td>\n",
       "      <td>380069</td>\n",
       "      <td>mobile</td>\n",
       "      <td>ended</td>\n",
       "      <td>NaN</td>\n",
       "      <td>573429.0</td>\n",
       "      <td>300.0</td>\n",
       "    </tr>\n",
       "    <tr>\n",
       "      <th>21306</th>\n",
       "      <td>573790</td>\n",
       "      <td>341965</td>\n",
       "      <td>mobile</td>\n",
       "      <td>ended</td>\n",
       "      <td>-337.0</td>\n",
       "      <td>NaN</td>\n",
       "      <td>NaN</td>\n",
       "    </tr>\n",
       "    <tr>\n",
       "      <th>21307</th>\n",
       "      <td>573791</td>\n",
       "      <td>364890</td>\n",
       "      <td>mobile</td>\n",
       "      <td>ended</td>\n",
       "      <td>144.0</td>\n",
       "      <td>NaN</td>\n",
       "      <td>NaN</td>\n",
       "    </tr>\n",
       "  </tbody>\n",
       "</table>\n",
       "<p>17003 rows × 7 columns</p>\n",
       "</div>"
      ],
      "text/plain": [
       "       rental_id  car_id checkin_type     state  delay_at_checkout_in_minutes  \\\n",
       "0         505000  363965       mobile  canceled                           NaN   \n",
       "1         507750  269550       mobile     ended                         -81.0   \n",
       "4         511440  313932       mobile     ended                           NaN   \n",
       "5         511626  398802       mobile     ended                        -203.0   \n",
       "7         512303  371242       mobile     ended                         -44.0   \n",
       "...          ...     ...          ...       ...                           ...   \n",
       "21302     573285  394863       mobile     ended                           NaN   \n",
       "21303     573305  392752       mobile     ended                          72.0   \n",
       "21305     573446  380069       mobile     ended                           NaN   \n",
       "21306     573790  341965       mobile     ended                        -337.0   \n",
       "21307     573791  364890       mobile     ended                         144.0   \n",
       "\n",
       "       previous_ended_rental_id  time_delta_with_previous_rental_in_minutes  \n",
       "0                           NaN                                         NaN  \n",
       "1                           NaN                                         NaN  \n",
       "4                           NaN                                         NaN  \n",
       "5                           NaN                                         NaN  \n",
       "7                           NaN                                         NaN  \n",
       "...                         ...                                         ...  \n",
       "21302                       NaN                                         NaN  \n",
       "21303                       NaN                                         NaN  \n",
       "21305                  573429.0                                       300.0  \n",
       "21306                       NaN                                         NaN  \n",
       "21307                       NaN                                         NaN  \n",
       "\n",
       "[17003 rows x 7 columns]"
      ]
     },
     "execution_count": 158,
     "metadata": {},
     "output_type": "execute_result"
    }
   ],
   "source": [
    "df_mobile = df[df['checkin_type']=='mobile']\n",
    "df_mobile"
   ]
  },
  {
   "cell_type": "code",
   "execution_count": 159,
   "metadata": {},
   "outputs": [
    {
     "data": {
      "text/html": [
       "<div>\n",
       "<style scoped>\n",
       "    .dataframe tbody tr th:only-of-type {\n",
       "        vertical-align: middle;\n",
       "    }\n",
       "\n",
       "    .dataframe tbody tr th {\n",
       "        vertical-align: top;\n",
       "    }\n",
       "\n",
       "    .dataframe thead th {\n",
       "        text-align: right;\n",
       "    }\n",
       "</style>\n",
       "<table border=\"1\" class=\"dataframe\">\n",
       "  <thead>\n",
       "    <tr style=\"text-align: right;\">\n",
       "      <th></th>\n",
       "      <th>rental_id</th>\n",
       "      <th>car_id</th>\n",
       "      <th>checkin_type</th>\n",
       "      <th>state</th>\n",
       "      <th>delay_at_checkout_in_minutes</th>\n",
       "      <th>previous_ended_rental_id</th>\n",
       "      <th>time_delta_with_previous_rental_in_minutes</th>\n",
       "    </tr>\n",
       "  </thead>\n",
       "  <tbody>\n",
       "    <tr>\n",
       "      <th>2</th>\n",
       "      <td>508131</td>\n",
       "      <td>359049</td>\n",
       "      <td>connect</td>\n",
       "      <td>ended</td>\n",
       "      <td>70.0</td>\n",
       "      <td>NaN</td>\n",
       "      <td>NaN</td>\n",
       "    </tr>\n",
       "    <tr>\n",
       "      <th>3</th>\n",
       "      <td>508865</td>\n",
       "      <td>299063</td>\n",
       "      <td>connect</td>\n",
       "      <td>canceled</td>\n",
       "      <td>NaN</td>\n",
       "      <td>NaN</td>\n",
       "      <td>NaN</td>\n",
       "    </tr>\n",
       "    <tr>\n",
       "      <th>6</th>\n",
       "      <td>511639</td>\n",
       "      <td>370585</td>\n",
       "      <td>connect</td>\n",
       "      <td>ended</td>\n",
       "      <td>-15.0</td>\n",
       "      <td>563782.0</td>\n",
       "      <td>570.0</td>\n",
       "    </tr>\n",
       "    <tr>\n",
       "      <th>9</th>\n",
       "      <td>513434</td>\n",
       "      <td>256528</td>\n",
       "      <td>connect</td>\n",
       "      <td>ended</td>\n",
       "      <td>23.0</td>\n",
       "      <td>NaN</td>\n",
       "      <td>NaN</td>\n",
       "    </tr>\n",
       "    <tr>\n",
       "      <th>11</th>\n",
       "      <td>514161</td>\n",
       "      <td>366037</td>\n",
       "      <td>connect</td>\n",
       "      <td>canceled</td>\n",
       "      <td>NaN</td>\n",
       "      <td>NaN</td>\n",
       "      <td>NaN</td>\n",
       "    </tr>\n",
       "    <tr>\n",
       "      <th>...</th>\n",
       "      <td>...</td>\n",
       "      <td>...</td>\n",
       "      <td>...</td>\n",
       "      <td>...</td>\n",
       "      <td>...</td>\n",
       "      <td>...</td>\n",
       "      <td>...</td>\n",
       "    </tr>\n",
       "    <tr>\n",
       "      <th>21288</th>\n",
       "      <td>570001</td>\n",
       "      <td>386413</td>\n",
       "      <td>connect</td>\n",
       "      <td>canceled</td>\n",
       "      <td>NaN</td>\n",
       "      <td>NaN</td>\n",
       "      <td>NaN</td>\n",
       "    </tr>\n",
       "    <tr>\n",
       "      <th>21300</th>\n",
       "      <td>572293</td>\n",
       "      <td>355023</td>\n",
       "      <td>connect</td>\n",
       "      <td>canceled</td>\n",
       "      <td>NaN</td>\n",
       "      <td>NaN</td>\n",
       "      <td>NaN</td>\n",
       "    </tr>\n",
       "    <tr>\n",
       "      <th>21304</th>\n",
       "      <td>573322</td>\n",
       "      <td>376491</td>\n",
       "      <td>connect</td>\n",
       "      <td>ended</td>\n",
       "      <td>-66.0</td>\n",
       "      <td>NaN</td>\n",
       "      <td>NaN</td>\n",
       "    </tr>\n",
       "    <tr>\n",
       "      <th>21308</th>\n",
       "      <td>574852</td>\n",
       "      <td>362531</td>\n",
       "      <td>connect</td>\n",
       "      <td>ended</td>\n",
       "      <td>-76.0</td>\n",
       "      <td>NaN</td>\n",
       "      <td>NaN</td>\n",
       "    </tr>\n",
       "    <tr>\n",
       "      <th>21309</th>\n",
       "      <td>575056</td>\n",
       "      <td>351549</td>\n",
       "      <td>connect</td>\n",
       "      <td>ended</td>\n",
       "      <td>35.0</td>\n",
       "      <td>NaN</td>\n",
       "      <td>NaN</td>\n",
       "    </tr>\n",
       "  </tbody>\n",
       "</table>\n",
       "<p>4307 rows × 7 columns</p>\n",
       "</div>"
      ],
      "text/plain": [
       "       rental_id  car_id checkin_type     state  delay_at_checkout_in_minutes  \\\n",
       "2         508131  359049      connect     ended                          70.0   \n",
       "3         508865  299063      connect  canceled                           NaN   \n",
       "6         511639  370585      connect     ended                         -15.0   \n",
       "9         513434  256528      connect     ended                          23.0   \n",
       "11        514161  366037      connect  canceled                           NaN   \n",
       "...          ...     ...          ...       ...                           ...   \n",
       "21288     570001  386413      connect  canceled                           NaN   \n",
       "21300     572293  355023      connect  canceled                           NaN   \n",
       "21304     573322  376491      connect     ended                         -66.0   \n",
       "21308     574852  362531      connect     ended                         -76.0   \n",
       "21309     575056  351549      connect     ended                          35.0   \n",
       "\n",
       "       previous_ended_rental_id  time_delta_with_previous_rental_in_minutes  \n",
       "2                           NaN                                         NaN  \n",
       "3                           NaN                                         NaN  \n",
       "6                      563782.0                                       570.0  \n",
       "9                           NaN                                         NaN  \n",
       "11                          NaN                                         NaN  \n",
       "...                         ...                                         ...  \n",
       "21288                       NaN                                         NaN  \n",
       "21300                       NaN                                         NaN  \n",
       "21304                       NaN                                         NaN  \n",
       "21308                       NaN                                         NaN  \n",
       "21309                       NaN                                         NaN  \n",
       "\n",
       "[4307 rows x 7 columns]"
      ]
     },
     "execution_count": 159,
     "metadata": {},
     "output_type": "execute_result"
    }
   ],
   "source": [
    "df_connect = df[df['checkin_type']=='connect']\n",
    "df_connect\n"
   ]
  },
  {
   "cell_type": "code",
   "execution_count": 160,
   "metadata": {},
   "outputs": [
    {
     "data": {
      "text/plain": [
       "142     720.0\n",
       "375     720.0\n",
       "669     720.0\n",
       "736     720.0\n",
       "1175    720.0\n",
       "Name: time_delta_with_previous_rental_in_minutes, dtype: float64"
      ]
     },
     "execution_count": 160,
     "metadata": {},
     "output_type": "execute_result"
    }
   ],
   "source": [
    "df.time_delta_with_previous_rental_in_minutes.nlargest()"
   ]
  },
  {
   "cell_type": "markdown",
   "metadata": {},
   "source": [
    "All types of cars"
   ]
  },
  {
   "cell_type": "code",
   "execution_count": 139,
   "metadata": {},
   "outputs": [
    {
     "name": "stdout",
     "output_type": "stream",
     "text": [
      "Percentage of problematic cases within 30 minutes: 8.56%\n",
      "Percentage of problematic cases within 30 minutes over the total of rentals: 0.27%\n"
     ]
    }
   ],
   "source": [
    "\n",
    "# Compute the number of rows where the time delta is between 0 and 30 minutes\n",
    "num_cases_within_30_minutes_prob = ((df['time_delta_with_previous_rental_in_minutes'] > 0) & \n",
    "                                (df['time_delta_with_previous_rental_in_minutes'] <= 30) & (df['delay_at_checkout_in_minutes']>0)).sum()\n",
    "\n",
    "# Calculate the percentage\n",
    "percentage_within_30_minutes = 100 * num_cases_within_30_minutes_prob / prob_cases\n",
    "# Display the result\n",
    "print(f\"Percentage of problematic cases within 30 minutes: {percentage_within_30_minutes:.2f}%\")\n",
    "\n",
    "\n",
    "# Calculate the percentage\n",
    "percentage_within_30_minutes_over_total = 100 * num_cases_within_30_minutes_prob / df.shape[0]\n",
    "# Display the result\n",
    "print(f\"Percentage of problematic cases within 30 minutes over the total of rentals: {percentage_within_30_minutes_over_total:.2f}%\")"
   ]
  },
  {
   "cell_type": "code",
   "execution_count": 161,
   "metadata": {},
   "outputs": [
    {
     "name": "stdout",
     "output_type": "stream",
     "text": [
      "Percentage of problematic cases within 60 minutes: 20.12%\n",
      "Percentage of problematic cases within 60 minutes over the total of rentals: 0.63%\n"
     ]
    }
   ],
   "source": [
    "((df['time_delta_with_previous_rental_in_minutes'] > 0) & (df['time_delta_with_previous_rental_in_minutes']<=60)).sum()\n",
    "\n",
    "\n",
    "# Compute the number of rows where the time delta is between 0 and 60 minutes\n",
    "num_cases_within_60_minutes_prob = ( (df['time_delta_with_previous_rental_in_minutes'] > 0)& \n",
    "                               (df['time_delta_with_previous_rental_in_minutes']<=60) & (df['delay_at_checkout_in_minutes']>0)).sum()\n",
    "\n",
    "# Calculate the percentage\n",
    "percentage_within_60_minutes = 100 * num_cases_within_60_minutes_prob / prob_cases\n",
    "# Display the result\n",
    "print(f\"Percentage of problematic cases within 60 minutes: {percentage_within_60_minutes:.2f}%\")\n",
    "\n",
    "\n",
    "# Calculate the percentage\n",
    "percentage_within_60_minutes_over_total = 100 * num_cases_within_60_minutes_prob / df.shape[0]\n",
    "# Display the result\n",
    "print(f\"Percentage of problematic cases within 60 minutes over the total of rentals: {percentage_within_60_minutes_over_total:.2f}%\")\n"
   ]
  },
  {
   "cell_type": "code",
   "execution_count": 162,
   "metadata": {},
   "outputs": [
    {
     "name": "stdout",
     "output_type": "stream",
     "text": [
      "Percentage of problematic cases within 120 minutes: 35.89%\n",
      "Percentage of problematic cases within 120 minutes over the total of rentals: 1.12%\n"
     ]
    }
   ],
   "source": [
    "((df['time_delta_with_previous_rental_in_minutes'] > 0) & (df['time_delta_with_previous_rental_in_minutes']<=120)).sum()\n",
    "\n",
    "\n",
    "\n",
    "\n",
    "# Compute the number of rows where the time delta is between 0 and 120 minutes\n",
    "num_cases_within_120_minutes_prob = ( (df['time_delta_with_previous_rental_in_minutes'] > 0)& \n",
    "                               (df['time_delta_with_previous_rental_in_minutes']<=120) & (df['delay_at_checkout_in_minutes']>0)).sum()\n",
    "\n",
    "# Calculate the percentage\n",
    "percentage_within_120_minutes = 100 * num_cases_within_120_minutes_prob / prob_cases\n",
    "# Display the result\n",
    "print(f\"Percentage of problematic cases within 120 minutes: {percentage_within_120_minutes:.2f}%\")\n",
    "\n",
    "\n",
    "# Calculate the percentage\n",
    "percentage_within_120_minutes_over_total = 100 * num_cases_within_120_minutes_prob / df.shape[0]\n",
    "# Display the result\n",
    "print(f\"Percentage of problematic cases within 120 minutes over the total of rentals: {percentage_within_120_minutes_over_total:.2f}%\")"
   ]
  },
  {
   "cell_type": "code",
   "execution_count": 163,
   "metadata": {},
   "outputs": [
    {
     "name": "stdout",
     "output_type": "stream",
     "text": [
      "Percentage of problematic cases within 240 minutes: 53.30%\n",
      "Percentage of problematic cases within 240 minutes over the total of rentals: 1.67%\n"
     ]
    }
   ],
   "source": [
    "((df['time_delta_with_previous_rental_in_minutes'] > 0) & (df['time_delta_with_previous_rental_in_minutes']<=240)).sum()\n",
    "\n",
    "\n",
    "\n",
    "# Compute the number of rows where the time delta is between 0 and 240 minutes\n",
    "num_cases_within_240_minutes_prob = ( (df['time_delta_with_previous_rental_in_minutes'] > 0)& \n",
    "                               (df['time_delta_with_previous_rental_in_minutes']<=240) &  (df['delay_at_checkout_in_minutes']>0)).sum()\n",
    "\n",
    "# Calculate the percentage\n",
    "percentage_within_240_minutes = 100 * num_cases_within_240_minutes_prob / prob_cases\n",
    "# Display the result\n",
    "print(f\"Percentage of problematic cases within 240 minutes: {percentage_within_240_minutes:.2f}%\")\n",
    "\n",
    "# Calculate the percentage\n",
    "percentage_within_240_minutes_over_total = 100 * num_cases_within_240_minutes_prob / df.shape[0]\n",
    "# Display the result\n",
    "print(f\"Percentage of problematic cases within 240 minutes over the total of rentals: {percentage_within_240_minutes_over_total:.2f}%\")"
   ]
  },
  {
   "cell_type": "code",
   "execution_count": 164,
   "metadata": {},
   "outputs": [
    {
     "name": "stdout",
     "output_type": "stream",
     "text": [
      "Percentage of problematic cases within 600 minutes: 81.23%\n",
      "Percentage of problematic cases within 600 minutes over the total of rentals: 2.54%\n"
     ]
    }
   ],
   "source": [
    "((df['time_delta_with_previous_rental_in_minutes'] > 0) & (df['time_delta_with_previous_rental_in_minutes']<=600)).sum()\n",
    "\n",
    "\n",
    "# Compute the number of rows where the time delta is between 0 and 600 minutes\n",
    "num_cases_within_600_minutes_prob = ((df['time_delta_with_previous_rental_in_minutes'] > 0)& \n",
    "                               (df['time_delta_with_previous_rental_in_minutes']<=600)& (df['delay_at_checkout_in_minutes']>0)).sum()\n",
    "\n",
    "# Calculate the percentage\n",
    "percentage_within_600_minutes = 100 * num_cases_within_600_minutes_prob / prob_cases\n",
    "# Display the result\n",
    "print(f\"Percentage of problematic cases within 600 minutes: {percentage_within_600_minutes:.2f}%\")\n",
    "\n",
    "\n",
    "# Calculate the percentage\n",
    "percentage_within_600_minutes_over_total = 100 * num_cases_within_600_minutes_prob / df.shape[0]\n",
    "# Display the result\n",
    "print(f\"Percentage of problematic cases within 600 minutes over the total of rentals: {percentage_within_600_minutes_over_total:.2f}%\")"
   ]
  },
  {
   "cell_type": "code",
   "execution_count": 169,
   "metadata": {},
   "outputs": [
    {
     "name": "stdout",
     "output_type": "stream",
     "text": [
      "Percentage of problematic cases within 720 minutes: 100.00%\n",
      "Percentage of the total of problematic cases within 720 delta between rentals: 42.64%\n",
      "Percentage of problematic cases within 720 minutes over the total of rentals: 3.13%\n",
      "Total rentals within 720 minutes over the total of rentals: 7.33%\n"
     ]
    }
   ],
   "source": [
    "\n",
    "# Compute the number of rows where the time delta is between 0 and 600 minutes\n",
    "num_cases_within_720_minutes_problem = ( (df['time_delta_with_previous_rental_in_minutes'] > 0)& \n",
    "                               (df['time_delta_with_previous_rental_in_minutes']<=720) & (df['delay_at_checkout_in_minutes']>0)).sum()\n",
    "\n",
    "# Calculate the percentage\n",
    "percentage_within_720_minutes = 100 * (num_cases_within_720_minutes_problem / prob_cases)\n",
    "# Display the result\n",
    "print(f\"Percentage of problematic cases within 720 minutes: {percentage_within_720_minutes:.2f}%\")\n",
    "\n",
    "total_cases_within_720_minutes = ((df['time_delta_with_previous_rental_in_minutes'] > 0) & \n",
    "                               (df['time_delta_with_previous_rental_in_minutes']<=720)).sum()\n",
    "percentage_prob_case_within_720_minutes = 100* (num_cases_within_720_minutes_problem/total_cases_within_720_minutes)\n",
    "\n",
    "print(f\"Percentage of the total of problematic cases within 720 delta between rentals: {percentage_prob_case_within_720_minutes:.2f}%\")\n",
    "# Calculate the percentage\n",
    "percentage_within_720_minutes_over_total = 100 * num_cases_within_720_minutes_problem / df.shape[0]\n",
    "# Display the result    \n",
    "print(f\"Percentage of problematic cases within 720 minutes over the total of rentals: {percentage_within_720_minutes_over_total:.2f}%\")\n",
    "\n",
    "\n",
    "\n",
    "\n",
    "percentage_total_cases_within_720_minutes = 100 * total_cases_within_720_minutes / df.shape[0]\n",
    "# Display the result    \n",
    "print(f\"Total rentals within 720 minutes over the total of rentals: {percentage_total_cases_within_720_minutes:.2f}%\")"
   ]
  },
  {
   "cell_type": "code",
   "execution_count": 167,
   "metadata": {},
   "outputs": [
    {
     "data": {
      "text/plain": [
       "1562"
      ]
     },
     "execution_count": 167,
     "metadata": {},
     "output_type": "execute_result"
    }
   ],
   "source": [
    "total_cases_within_720_minutes"
   ]
  },
  {
   "cell_type": "code",
   "execution_count": 166,
   "metadata": {},
   "outputs": [
    {
     "data": {
      "text/plain": [
       "666"
      ]
     },
     "execution_count": 166,
     "metadata": {},
     "output_type": "execute_result"
    }
   ],
   "source": [
    "num_cases_within_720_minutes_problem"
   ]
  },
  {
   "cell_type": "markdown",
   "metadata": {},
   "source": [
    "## If a threshold imposing of at list 720 minutes (12 hours) of differences between one rental and another is applied to all cars this would concern 7.33% of the total of rental where the delta between two rentals is less than 12 hours, \n",
    "# Within this threshold of 720 minutes such a feature would the 42,6% of the problematic cases where in a delay in the following rental was verified."
   ]
  },
  {
   "cell_type": "code",
   "execution_count": 170,
   "metadata": {},
   "outputs": [
    {
     "data": {
      "text/html": [
       "<div>\n",
       "<style scoped>\n",
       "    .dataframe tbody tr th:only-of-type {\n",
       "        vertical-align: middle;\n",
       "    }\n",
       "\n",
       "    .dataframe tbody tr th {\n",
       "        vertical-align: top;\n",
       "    }\n",
       "\n",
       "    .dataframe thead th {\n",
       "        text-align: right;\n",
       "    }\n",
       "</style>\n",
       "<table border=\"1\" class=\"dataframe\">\n",
       "  <thead>\n",
       "    <tr style=\"text-align: right;\">\n",
       "      <th></th>\n",
       "      <th>rental_id</th>\n",
       "      <th>car_id</th>\n",
       "      <th>checkin_type</th>\n",
       "      <th>state</th>\n",
       "      <th>delay_at_checkout_in_minutes</th>\n",
       "      <th>previous_ended_rental_id</th>\n",
       "      <th>time_delta_with_previous_rental_in_minutes</th>\n",
       "    </tr>\n",
       "  </thead>\n",
       "  <tbody>\n",
       "    <tr>\n",
       "      <th>107</th>\n",
       "      <td>537576</td>\n",
       "      <td>397470</td>\n",
       "      <td>mobile</td>\n",
       "      <td>ended</td>\n",
       "      <td>18.0</td>\n",
       "      <td>539005.0</td>\n",
       "      <td>0.0</td>\n",
       "    </tr>\n",
       "    <tr>\n",
       "      <th>148</th>\n",
       "      <td>540479</td>\n",
       "      <td>374684</td>\n",
       "      <td>mobile</td>\n",
       "      <td>ended</td>\n",
       "      <td>12.0</td>\n",
       "      <td>539751.0</td>\n",
       "      <td>0.0</td>\n",
       "    </tr>\n",
       "    <tr>\n",
       "      <th>164</th>\n",
       "      <td>541862</td>\n",
       "      <td>382364</td>\n",
       "      <td>mobile</td>\n",
       "      <td>ended</td>\n",
       "      <td>125.0</td>\n",
       "      <td>540607.0</td>\n",
       "      <td>0.0</td>\n",
       "    </tr>\n",
       "    <tr>\n",
       "      <th>342</th>\n",
       "      <td>552330</td>\n",
       "      <td>384657</td>\n",
       "      <td>connect</td>\n",
       "      <td>ended</td>\n",
       "      <td>23.0</td>\n",
       "      <td>554800.0</td>\n",
       "      <td>0.0</td>\n",
       "    </tr>\n",
       "    <tr>\n",
       "      <th>438</th>\n",
       "      <td>559781</td>\n",
       "      <td>408776</td>\n",
       "      <td>mobile</td>\n",
       "      <td>ended</td>\n",
       "      <td>44.0</td>\n",
       "      <td>540868.0</td>\n",
       "      <td>0.0</td>\n",
       "    </tr>\n",
       "    <tr>\n",
       "      <th>...</th>\n",
       "      <td>...</td>\n",
       "      <td>...</td>\n",
       "      <td>...</td>\n",
       "      <td>...</td>\n",
       "      <td>...</td>\n",
       "      <td>...</td>\n",
       "      <td>...</td>\n",
       "    </tr>\n",
       "    <tr>\n",
       "      <th>20777</th>\n",
       "      <td>552034</td>\n",
       "      <td>361156</td>\n",
       "      <td>mobile</td>\n",
       "      <td>ended</td>\n",
       "      <td>335.0</td>\n",
       "      <td>548172.0</td>\n",
       "      <td>0.0</td>\n",
       "    </tr>\n",
       "    <tr>\n",
       "      <th>20802</th>\n",
       "      <td>553351</td>\n",
       "      <td>406124</td>\n",
       "      <td>connect</td>\n",
       "      <td>ended</td>\n",
       "      <td>90.0</td>\n",
       "      <td>557210.0</td>\n",
       "      <td>0.0</td>\n",
       "    </tr>\n",
       "    <tr>\n",
       "      <th>20924</th>\n",
       "      <td>561476</td>\n",
       "      <td>410402</td>\n",
       "      <td>mobile</td>\n",
       "      <td>ended</td>\n",
       "      <td>11.0</td>\n",
       "      <td>550186.0</td>\n",
       "      <td>0.0</td>\n",
       "    </tr>\n",
       "    <tr>\n",
       "      <th>21054</th>\n",
       "      <td>562649</td>\n",
       "      <td>379751</td>\n",
       "      <td>connect</td>\n",
       "      <td>ended</td>\n",
       "      <td>72.0</td>\n",
       "      <td>565386.0</td>\n",
       "      <td>0.0</td>\n",
       "    </tr>\n",
       "    <tr>\n",
       "      <th>21163</th>\n",
       "      <td>565721</td>\n",
       "      <td>381470</td>\n",
       "      <td>mobile</td>\n",
       "      <td>ended</td>\n",
       "      <td>44.0</td>\n",
       "      <td>564855.0</td>\n",
       "      <td>0.0</td>\n",
       "    </tr>\n",
       "  </tbody>\n",
       "</table>\n",
       "<p>136 rows × 7 columns</p>\n",
       "</div>"
      ],
      "text/plain": [
       "       rental_id  car_id checkin_type  state  delay_at_checkout_in_minutes  \\\n",
       "107       537576  397470       mobile  ended                          18.0   \n",
       "148       540479  374684       mobile  ended                          12.0   \n",
       "164       541862  382364       mobile  ended                         125.0   \n",
       "342       552330  384657      connect  ended                          23.0   \n",
       "438       559781  408776       mobile  ended                          44.0   \n",
       "...          ...     ...          ...    ...                           ...   \n",
       "20777     552034  361156       mobile  ended                         335.0   \n",
       "20802     553351  406124      connect  ended                          90.0   \n",
       "20924     561476  410402       mobile  ended                          11.0   \n",
       "21054     562649  379751      connect  ended                          72.0   \n",
       "21163     565721  381470       mobile  ended                          44.0   \n",
       "\n",
       "       previous_ended_rental_id  time_delta_with_previous_rental_in_minutes  \n",
       "107                    539005.0                                         0.0  \n",
       "148                    539751.0                                         0.0  \n",
       "164                    540607.0                                         0.0  \n",
       "342                    554800.0                                         0.0  \n",
       "438                    540868.0                                         0.0  \n",
       "...                         ...                                         ...  \n",
       "20777                  548172.0                                         0.0  \n",
       "20802                  557210.0                                         0.0  \n",
       "20924                  550186.0                                         0.0  \n",
       "21054                  565386.0                                         0.0  \n",
       "21163                  564855.0                                         0.0  \n",
       "\n",
       "[136 rows x 7 columns]"
      ]
     },
     "execution_count": 170,
     "metadata": {},
     "output_type": "execute_result"
    }
   ],
   "source": [
    "df[(df['time_delta_with_previous_rental_in_minutes'] <= 0) & (df['delay_at_checkout_in_minutes']>0)]"
   ]
  },
  {
   "cell_type": "markdown",
   "metadata": {},
   "source": [
    "Connect cars"
   ]
  },
  {
   "cell_type": "code",
   "execution_count": 83,
   "metadata": {},
   "outputs": [
    {
     "name": "stdout",
     "output_type": "stream",
     "text": [
      "Percentage of problematic connect cases within 30 minutes: 2.85%\n",
      "Percentage of problematic connect cases within 30 minutes over the total of rentals: 0.44%\n",
      "Percentage of problematic connect cases within 60 minutes: 6.91%\n",
      "Percentage of problematic connect cases within 60 minutes over the total of rentals: 1.07%\n",
      "Percentage of problematic connect cases within 120 minutes: 11.56%\n",
      "Percentage of problematic connect cases within 120 minutes over the total of rentals: 1.79%\n",
      "Percentage of problematic connect cases within 240 minutes: 17.27%\n",
      "Percentage of problematic connect cases within 240 minutes over the total of rentals: 2.67%\n",
      "Percentage of problematic connect cases within 600 minutes: 26.73%\n",
      "Percentage of problematic connect cases within 600 minutes over the total of rentals: 0.84%\n",
      "Percentage of problematic connect cases within 720 minutes: 33.63%\n",
      "Percentage of problematic connect cases within 720 minutes over the total of rentals: 1.05%\n"
     ]
    }
   ],
   "source": [
    "# Compute the number of rows where the time delta is between 0 and 30 minutes\n",
    "num_cases_within_30_minutes_connect = ((df_connect['time_delta_with_previous_rental_in_minutes'] > 0) & \n",
    "                               (df_connect['time_delta_with_previous_rental_in_minutes'] <= 30) & \n",
    "                               (df_connect['delay_at_checkout_in_minutes'] > 0)).sum()\n",
    "\n",
    "# Calculate the percentage\n",
    "percentage_within_30_minutes_connect = 100 * num_cases_within_30_minutes_connect / prob_cases\n",
    "# Display the result\n",
    "print(f\"Percentage of problematic connect cases within 30 minutes: {percentage_within_30_minutes_connect:.2f}%\")\n",
    "\n",
    "# Calculate the percentage of cases within 30 minutes over the total number of rentals\n",
    "percentage_within_30_minutes_over_total_connect = 100 * num_cases_within_30_minutes_connect / df_connect.shape[0]\n",
    "# Display the result\n",
    "print(f\"Percentage of problematic connect cases within 30 minutes over the total of rentals: {percentage_within_30_minutes_over_total_connect:.2f}%\")\n",
    "\n",
    "# Compute the number of rows where the time delta is between 0 and 60 minutes\n",
    "num_cases_within_60_minutes_connect = ((df_connect['time_delta_with_previous_rental_in_minutes'] > 0) & \n",
    "                               (df_connect['time_delta_with_previous_rental_in_minutes'] <= 60) & \n",
    "                               (df_connect['delay_at_checkout_in_minutes'] > 0)).sum()\n",
    "\n",
    "# Calculate the percentage\n",
    "percentage_within_60_minutes_connect = 100 * num_cases_within_60_minutes_connect / prob_cases\n",
    "# Display the result\n",
    "print(f\"Percentage of problematic connect cases within 60 minutes: {percentage_within_60_minutes_connect:.2f}%\")\n",
    "\n",
    "# Calculate the percentage of cases within 60 minutes over the total number of rentals\n",
    "percentage_within_60_minutes_over_total_connect = 100 * num_cases_within_60_minutes_connect / df_connect.shape[0]\n",
    "# Display the result\n",
    "print(f\"Percentage of problematic connect cases within 60 minutes over the total of rentals: {percentage_within_60_minutes_over_total_connect:.2f}%\")\n",
    "\n",
    "# Compute the number of rows where the time delta is between 0 and 120 minutes\n",
    "num_cases_within_120_minutes_connect = ((df_connect['time_delta_with_previous_rental_in_minutes'] > 0) & \n",
    "                                (df_connect['time_delta_with_previous_rental_in_minutes'] <= 120) & \n",
    "                                (df_connect['delay_at_checkout_in_minutes'] > 0)).sum()\n",
    "\n",
    "# Calculate the percentage\n",
    "percentage_within_120_minutes_connect = 100 * num_cases_within_120_minutes_connect / prob_cases\n",
    "# Display the result\n",
    "print(f\"Percentage of problematic connect cases within 120 minutes: {percentage_within_120_minutes_connect:.2f}%\")\n",
    "\n",
    "# Calculate the percentage of cases within 120 minutes over the total number of rentals\n",
    "percentage_within_120_minutes_over_total_connect = 100 * num_cases_within_120_minutes_connect / df_connect.shape[0]\n",
    "# Display the result\n",
    "print(f\"Percentage of problematic connect cases within 120 minutes over the total of rentals: {percentage_within_120_minutes_over_total_connect:.2f}%\")\n",
    "\n",
    "# Compute the number of rows where the time delta is between 0 and 240 minutes\n",
    "num_cases_within_240_minutes_connect = ((df_connect['time_delta_with_previous_rental_in_minutes'] > 0) & \n",
    "                                (df_connect['time_delta_with_previous_rental_in_minutes'] <= 240) & \n",
    "                                (df_connect['delay_at_checkout_in_minutes'] > 0)).sum()\n",
    "\n",
    "# Calculate the percentage\n",
    "percentage_within_240_minutes_connect = 100 * num_cases_within_240_minutes_connect / prob_cases\n",
    "# Display the result\n",
    "print(f\"Percentage of problematic connect cases within 240 minutes: {percentage_within_240_minutes_connect:.2f}%\")\n",
    "\n",
    "# Calculate the percentage of cases within 240 minutes over the total number of rentals\n",
    "percentage_within_240_minutes_over_total_connect = 100 * num_cases_within_240_minutes_connect / df_connect.shape[0]\n",
    "# Display the result\n",
    "print(f\"Percentage of problematic connect cases within 240 minutes over the total of rentals: {percentage_within_240_minutes_over_total_connect:.2f}%\")\n",
    "\n",
    "\n",
    "\n",
    "num_cases_within_600_minutes_connect = ((df_connect['time_delta_with_previous_rental_in_minutes'] > 0) & \n",
    "                                (df_connect['time_delta_with_previous_rental_in_minutes'] <= 600) & (df['delay_at_checkout_in_minutes']>0) ).sum()\n",
    "\n",
    "# Calculate the percentage\n",
    "percentage_within_600_minutes_connect  = 100 * num_cases_within_600_minutes_connect  / prob_cases\n",
    "# Display the result\n",
    "print(f\"Percentage of problematic connect cases within 600 minutes: {percentage_within_600_minutes_connect:.2f}%\")\n",
    "\n",
    "# Calculate the percentage of cases within 600 minutes over the total number of rentals\n",
    "percentage_within_600_minutes_over_total_connect = 100 * num_cases_within_600_minutes_connect / df.shape[0]\n",
    "# Display the result\n",
    "print(f\"Percentage of problematic connect cases within 600 minutes over the total of rentals: {percentage_within_600_minutes_over_total_connect:.2f}%\")\n",
    "\n",
    "# Compute the number of rows where the time delta is between 0 and 600 minutes\n",
    "num_cases_within_720_minutes_connect = ((df_connect['time_delta_with_previous_rental_in_minutes'] > 0) & \n",
    "                                (df_connect['time_delta_with_previous_rental_in_minutes'] <= 720) & (df['delay_at_checkout_in_minutes']>0)).sum()\n",
    "_\n",
    "percentage_within_720_minutes_connect = 100 * num_cases_within_720_minutes_connect / prob_cases\n",
    "# Display the result\n",
    "print(f\"Percentage of problematic connect cases within 720 minutes: {percentage_within_720_minutes_connect:.2f}%\")\n",
    "\n",
    "# Calculate the percentage of cases within 720 minutes over the total number of rentals\n",
    "percentage_within_720_minutes_over_total_connect = 100 * num_cases_within_720_minutes_connect / df.shape[0]\n",
    "# Display the result\n",
    "print(f\"Percentage of problematic connect cases within 720 minutes over the total of rentals: {percentage_within_720_minutes_over_total_connect:.2f}%\")\n",
    "\n"
   ]
  },
  {
   "cell_type": "markdown",
   "metadata": {},
   "source": [
    "Mobile cars"
   ]
  },
  {
   "cell_type": "code",
   "execution_count": 49,
   "metadata": {},
   "outputs": [
    {
     "name": "stdout",
     "output_type": "stream",
     "text": [
      "Percentage of problematic mobile cases within 30 minutes: 5.71%\n",
      "Percentage of problematic mobile cases within 30 minutes over the total of rentals: 0.18%\n",
      "Percentage of problematic mobile cases within 60 minutes: 13.21%\n",
      "Percentage of problematic mobile cases within 60 minutes over the total of rentals: 0.41%\n",
      "Percentage of problematic mobile cases within 120 minutes: 24.32%\n",
      "Percentage of problematic mobile cases within 120 minutes over the total of rentals: 0.76%\n",
      "Percentage of problematic mobile cases within 240 minutes: 36.04%\n",
      "Percentage of problematic mobile cases within 240 minutes over the total of rentals: 1.13%\n",
      "Percentage of problematic mobile cases within 600 minutes: 54.50%\n",
      "Percentage of problematic mobile cases within 600 minutes over the total of rentals: 1.70%\n",
      "Percentage of problematic mobile cases within 720 minutes: 66.37%\n",
      "Percentage of problematic mobile cases within 720 minutes over the total of rentals: 2.07%\n"
     ]
    }
   ],
   "source": [
    "# Compute the number of rows where the time delta is between 0 and 30 minutes\n",
    "num_cases_within_30_minutes_mobile = ((df_mobile['time_delta_with_previous_rental_in_minutes'] > 0) & \n",
    "                                       (df_mobile['time_delta_with_previous_rental_in_minutes'] <= 30) & \n",
    "                                       (df_mobile['delay_at_checkout_in_minutes'] > 0)).sum()\n",
    "\n",
    "# Calculate the percentage\n",
    "percentage_within_30_minutes_mobile = 100 * num_cases_within_30_minutes_mobile / prob_cases\n",
    "# Display the result\n",
    "print(f\"Percentage of problematic mobile cases within 30 minutes: {percentage_within_30_minutes_mobile:.2f}%\")\n",
    "\n",
    "# Calculate the percentage of cases within 30 minutes over the total number of rentals\n",
    "percentage_within_30_minutes_over_total_mobile = 100 * num_cases_within_30_minutes_mobile / df.shape[0]\n",
    "# Display the result\n",
    "print(f\"Percentage of problematic mobile cases within 30 minutes over the total of rentals: {percentage_within_30_minutes_over_total_mobile:.2f}%\")\n",
    "\n",
    "# Compute the number of rows where the time delta is between 0 and 60 minutes\n",
    "num_cases_within_60_minutes_mobile = ((df_mobile['time_delta_with_previous_rental_in_minutes'] > 0) & \n",
    "                                       (df_mobile['time_delta_with_previous_rental_in_minutes'] <= 60) & \n",
    "                                       (df_mobile['delay_at_checkout_in_minutes'] > 0)).sum()\n",
    "\n",
    "# Calculate the percentage\n",
    "percentage_within_60_minutes_mobile = 100 * num_cases_within_60_minutes_mobile / prob_cases\n",
    "# Display the result\n",
    "print(f\"Percentage of problematic mobile cases within 60 minutes: {percentage_within_60_minutes_mobile:.2f}%\")\n",
    "\n",
    "# Calculate the percentage of cases within 60 minutes over the total number of rentals\n",
    "percentage_within_60_minutes_over_total_mobile = 100 * num_cases_within_60_minutes_mobile / df.shape[0]\n",
    "# Display the result\n",
    "print(f\"Percentage of problematic mobile cases within 60 minutes over the total of rentals: {percentage_within_60_minutes_over_total_mobile:.2f}%\")\n",
    "\n",
    "# Compute the number of rows where the time delta is between 0 and 120 minutes\n",
    "num_cases_within_120_minutes_mobile = ((df_mobile['time_delta_with_previous_rental_in_minutes'] > 0) & \n",
    "                                        (df_mobile['time_delta_with_previous_rental_in_minutes'] <= 120) & \n",
    "                                        (df_mobile['delay_at_checkout_in_minutes'] > 0)).sum()\n",
    "\n",
    "# Calculate the percentage\n",
    "percentage_within_120_minutes_mobile = 100 * num_cases_within_120_minutes_mobile / prob_cases\n",
    "# Display the result\n",
    "print(f\"Percentage of problematic mobile cases within 120 minutes: {percentage_within_120_minutes_mobile:.2f}%\")\n",
    "\n",
    "# Calculate the percentage of cases within 120 minutes over the total number of rentals\n",
    "percentage_within_120_minutes_over_total_mobile = 100 * num_cases_within_120_minutes_mobile / df.shape[0]\n",
    "# Display the result\n",
    "print(f\"Percentage of problematic mobile cases within 120 minutes over the total of rentals: {percentage_within_120_minutes_over_total_mobile:.2f}%\")\n",
    "\n",
    "# Compute the number of rows where the time delta is between 0 and 240 minutes\n",
    "num_cases_within_240_minutes_mobile = ((df_mobile['time_delta_with_previous_rental_in_minutes'] > 0) & \n",
    "                                        (df_mobile['time_delta_with_previous_rental_in_minutes'] <= 240) & \n",
    "                                        (df_mobile['delay_at_checkout_in_minutes'] > 0)).sum()\n",
    "\n",
    "# Calculate the percentage\n",
    "percentage_within_240_minutes_mobile = 100 * num_cases_within_240_minutes_mobile / prob_cases\n",
    "# Display the result\n",
    "print(f\"Percentage of problematic mobile cases within 240 minutes: {percentage_within_240_minutes_mobile:.2f}%\")\n",
    "\n",
    "# Calculate the percentage of cases within 240 minutes over the total number of rentals\n",
    "percentage_within_240_minutes_over_total_mobile = 100 * num_cases_within_240_minutes_mobile / df.shape[0]\n",
    "# Display the result\n",
    "print(f\"Percentage of problematic mobile cases within 240 minutes over the total of rentals: {percentage_within_240_minutes_over_total_mobile:.2f}%\")\n",
    "\n",
    "# Compute the number of rows where the time delta is between 0 and 600 minutes\n",
    "num_cases_within_600_minutes_mobile = ((df_mobile['time_delta_with_previous_rental_in_minutes'] > 0) & \n",
    "                                        (df_mobile['time_delta_with_previous_rental_in_minutes'] <= 600) & \n",
    "                                        (df_mobile['delay_at_checkout_in_minutes'] > 0)).sum()\n",
    "\n",
    "# Calculate the percentage\n",
    "percentage_within_600_minutes_mobile = 100 * num_cases_within_600_minutes_mobile / prob_cases\n",
    "# Display the result\n",
    "print(f\"Percentage of problematic mobile cases within 600 minutes: {percentage_within_600_minutes_mobile:.2f}%\")\n",
    "\n",
    "# Calculate the percentage of cases within 600 minutes over the total number of rentals\n",
    "percentage_within_600_minutes_over_total_mobile = 100 * num_cases_within_600_minutes_mobile / df.shape[0]\n",
    "# Display the result\n",
    "print(f\"Percentage of problematic mobile cases within 600 minutes over the total of rentals: {percentage_within_600_minutes_over_total_mobile:.2f}%\")\n",
    "\n",
    "# Compute the number of rows where the time delta is between 0 and 720 minutes\n",
    "num_cases_within_720_minutes_mobile = ((df_mobile['time_delta_with_previous_rental_in_minutes'] > 0) & \n",
    "                                        (df_mobile['time_delta_with_previous_rental_in_minutes'] <= 720) & \n",
    "                                        (df_mobile['delay_at_checkout_in_minutes'] > 0)).sum()\n",
    "\n",
    "# Calculate the percentage\n",
    "percentage_within_720_minutes_mobile = 100 * num_cases_within_720_minutes_mobile / prob_cases\n",
    "# Display the result\n",
    "print(f\"Percentage of problematic mobile cases within 720 minutes: {percentage_within_720_minutes_mobile:.2f}%\")\n",
    "\n",
    "# Calculate the percentage of cases within 720 minutes over the total number of rentals\n",
    "percentage_within_720_minutes_over_total_mobile = 100 * num_cases_within_720_minutes_mobile / df.shape[0]\n",
    "# Display the result\n",
    "print(f\"Percentage of problematic mobile cases within 720 minutes over the total of rentals: {percentage_within_720_minutes_over_total_mobile:.2f}%\")\n"
   ]
  },
  {
   "cell_type": "code",
   "execution_count": 56,
   "metadata": {},
   "outputs": [
    {
     "name": "stdout",
     "output_type": "stream",
     "text": [
      "Percentage of problematic connect cases within 30 minutes: 2.85%\n",
      "Percentage of problematic connect cases within 30 minutes over the total of rentals: 0.44%\n",
      "Percentage of problematic connect cases within 60 minutes: 6.91%\n",
      "Percentage of problematic connect cases within 60 minutes over the total of rentals: 1.07%\n",
      "Percentage of problematic connect cases within 120 minutes: 11.56%\n",
      "Percentage of problematic connect cases within 120 minutes over the total of rentals: 1.79%\n",
      "Percentage of problematic connect cases within 240 minutes: 17.27%\n",
      "Percentage of problematic connect cases within 240 minutes over the total of rentals: 2.67%\n",
      "Percentage of problematic connect cases within 600 minutes: 26.73%\n",
      "Percentage of problematic connect cases within 600 minutes over the total of rentals: 4.13%\n",
      "Percentage of problematic connect cases within 720 minutes: 33.63%\n",
      "Percentage of problematic connect cases within 720 minutes over the total of rentals: 5.20%\n",
      "Percentage of problematic mobile cases within 30 minutes: 5.71%\n",
      "Percentage of problematic mobile cases within 30 minutes over the total of rentals: 0.22%\n",
      "Percentage of problematic mobile cases within 60 minutes: 13.21%\n",
      "Percentage of problematic mobile cases within 60 minutes over the total of rentals: 0.52%\n",
      "Percentage of problematic mobile cases within 120 minutes: 24.32%\n",
      "Percentage of problematic mobile cases within 120 minutes over the total of rentals: 0.95%\n",
      "Percentage of problematic mobile cases within 240 minutes: 36.04%\n",
      "Percentage of problematic mobile cases within 240 minutes over the total of rentals: 1.41%\n",
      "Percentage of problematic mobile cases within 600 minutes: 54.50%\n",
      "Percentage of problematic mobile cases within 600 minutes over the total of rentals: 2.13%\n",
      "Percentage of problematic mobile cases within 720 minutes: 66.37%\n",
      "Percentage of problematic mobile cases within 720 minutes over the total of rentals: 2.60%\n"
     ]
    }
   ],
   "source": [
    "import pandas as pd\n",
    "\n",
    "def calculate_percentages(df, prob_cases, time_intervals, dataset_name):\n",
    "    for interval in time_intervals:\n",
    "        # Compute the number of rows where the time delta is between 0 and the current interval\n",
    "        num_cases_within_interval = ((df['time_delta_with_previous_rental_in_minutes'] > 0) & \n",
    "                                      (df['time_delta_with_previous_rental_in_minutes'] <= interval) & \n",
    "                                      (df['delay_at_checkout_in_minutes'] > 0)).sum()\n",
    "\n",
    "        # Calculate the percentage within the interval\n",
    "        percentage_within_interval = 100 * num_cases_within_interval / prob_cases\n",
    "        print(f\"Percentage of problematic {dataset_name} cases within {interval} minutes: {percentage_within_interval:.2f}%\")\n",
    "\n",
    "        # Calculate the percentage of cases within the interval over the total number of rentals\n",
    "        percentage_within_interval_over_total = 100 * num_cases_within_interval / df.shape[0]\n",
    "        print(f\"Percentage of problematic {dataset_name} cases within {interval} minutes over the total of rentals: {percentage_within_interval_over_total:.2f}%\")\n",
    "\n",
    "# Define the time intervals\n",
    "time_intervals = [30, 60, 120, 240, 600, 720]\n",
    "\n",
    "# Sample data for df_connect and df_mobile\n",
    "# df_connect = pd.DataFrame({'time_delta_with_previous_rental_in_minutes': [...], 'delay_at_checkout_in_minutes': [...]})\n",
    "# df_mobile = pd.DataFrame({'time_delta_with_previous_rental_in_minutes': [...], 'delay_at_checkout_in_minutes': [...]})\n",
    "# prob_cases = ... # Define the number of problematic cases\n",
    "\n",
    "# Calculate and print percentages for df_connect\n",
    "calculate_percentages(df_connect, prob_cases, time_intervals, 'connect')\n",
    "\n",
    "# Calculate and print percentages for df_mobile\n",
    "calculate_percentages(df_mobile, prob_cases, time_intervals, 'mobile')\n"
   ]
  },
  {
   "cell_type": "code",
   "execution_count": 50,
   "metadata": {},
   "outputs": [
    {
     "data": {
      "application/vnd.plotly.v1+json": {
       "config": {
        "plotlyServerURL": "https://plot.ly"
       },
       "data": [
        {
         "marker": {
          "color": "lightcoral"
         },
         "name": "Connect Check-in",
         "type": "bar",
         "x": [
          "0-30",
          "0-60",
          "0-120",
          "0-240",
          "0-600",
          "0-720"
         ],
         "y": [
          2.8528528528528527,
          6.906906906906907,
          11.561561561561561,
          17.26726726726727,
          26.726726726726728,
          33.633633633633636
         ]
        },
        {
         "marker": {
          "color": "royalblue"
         },
         "name": "Mobile Check-in",
         "type": "bar",
         "x": [
          "0-30",
          "0-60",
          "0-120",
          "0-240",
          "0-600",
          "0-720"
         ],
         "y": [
          5.7057057057057055,
          13.213213213213214,
          24.324324324324323,
          36.03603603603604,
          54.5045045045045,
          66.36636636636636
         ]
        }
       ],
       "layout": {
        "barmode": "group",
        "template": {
         "data": {
          "candlestick": [
           {
            "decreasing": {
             "line": {
              "color": "#000033"
             }
            },
            "increasing": {
             "line": {
              "color": "#000032"
             }
            },
            "type": "candlestick"
           }
          ],
          "contour": [
           {
            "colorscale": [
             [
              0,
              "#000011"
             ],
             [
              0.1111111111111111,
              "#000012"
             ],
             [
              0.2222222222222222,
              "#000013"
             ],
             [
              0.3333333333333333,
              "#000014"
             ],
             [
              0.4444444444444444,
              "#000015"
             ],
             [
              0.5555555555555556,
              "#000016"
             ],
             [
              0.6666666666666666,
              "#000017"
             ],
             [
              0.7777777777777778,
              "#000018"
             ],
             [
              0.8888888888888888,
              "#000019"
             ],
             [
              1,
              "#000020"
             ]
            ],
            "type": "contour"
           }
          ],
          "contourcarpet": [
           {
            "colorscale": [
             [
              0,
              "#000011"
             ],
             [
              0.1111111111111111,
              "#000012"
             ],
             [
              0.2222222222222222,
              "#000013"
             ],
             [
              0.3333333333333333,
              "#000014"
             ],
             [
              0.4444444444444444,
              "#000015"
             ],
             [
              0.5555555555555556,
              "#000016"
             ],
             [
              0.6666666666666666,
              "#000017"
             ],
             [
              0.7777777777777778,
              "#000018"
             ],
             [
              0.8888888888888888,
              "#000019"
             ],
             [
              1,
              "#000020"
             ]
            ],
            "type": "contourcarpet"
           }
          ],
          "heatmap": [
           {
            "colorscale": [
             [
              0,
              "#000011"
             ],
             [
              0.1111111111111111,
              "#000012"
             ],
             [
              0.2222222222222222,
              "#000013"
             ],
             [
              0.3333333333333333,
              "#000014"
             ],
             [
              0.4444444444444444,
              "#000015"
             ],
             [
              0.5555555555555556,
              "#000016"
             ],
             [
              0.6666666666666666,
              "#000017"
             ],
             [
              0.7777777777777778,
              "#000018"
             ],
             [
              0.8888888888888888,
              "#000019"
             ],
             [
              1,
              "#000020"
             ]
            ],
            "type": "heatmap"
           }
          ],
          "histogram2d": [
           {
            "colorscale": [
             [
              0,
              "#000011"
             ],
             [
              0.1111111111111111,
              "#000012"
             ],
             [
              0.2222222222222222,
              "#000013"
             ],
             [
              0.3333333333333333,
              "#000014"
             ],
             [
              0.4444444444444444,
              "#000015"
             ],
             [
              0.5555555555555556,
              "#000016"
             ],
             [
              0.6666666666666666,
              "#000017"
             ],
             [
              0.7777777777777778,
              "#000018"
             ],
             [
              0.8888888888888888,
              "#000019"
             ],
             [
              1,
              "#000020"
             ]
            ],
            "type": "histogram2d"
           }
          ],
          "icicle": [
           {
            "textfont": {
             "color": "white"
            },
            "type": "icicle"
           }
          ],
          "sankey": [
           {
            "textfont": {
             "color": "#000036"
            },
            "type": "sankey"
           }
          ],
          "scatter": [
           {
            "marker": {
             "line": {
              "width": 0
             }
            },
            "type": "scatter"
           }
          ],
          "table": [
           {
            "cells": {
             "fill": {
              "color": "#000038"
             },
             "font": {
              "color": "#000037"
             },
             "line": {
              "color": "#000039"
             }
            },
            "header": {
             "fill": {
              "color": "#000040"
             },
             "font": {
              "color": "#000036"
             },
             "line": {
              "color": "#000039"
             }
            },
            "type": "table"
           }
          ],
          "waterfall": [
           {
            "connector": {
             "line": {
              "color": "#000036",
              "width": 2
             }
            },
            "decreasing": {
             "marker": {
              "color": "#000033"
             }
            },
            "increasing": {
             "marker": {
              "color": "#000032"
             }
            },
            "totals": {
             "marker": {
              "color": "#000034"
             }
            },
            "type": "waterfall"
           }
          ]
         },
         "layout": {
          "coloraxis": {
           "colorscale": [
            [
             0,
             "#000011"
            ],
            [
             0.1111111111111111,
             "#000012"
            ],
            [
             0.2222222222222222,
             "#000013"
            ],
            [
             0.3333333333333333,
             "#000014"
            ],
            [
             0.4444444444444444,
             "#000015"
            ],
            [
             0.5555555555555556,
             "#000016"
            ],
            [
             0.6666666666666666,
             "#000017"
            ],
            [
             0.7777777777777778,
             "#000018"
            ],
            [
             0.8888888888888888,
             "#000019"
            ],
            [
             1,
             "#000020"
            ]
           ]
          },
          "colorscale": {
           "diverging": [
            [
             0,
             "#000021"
            ],
            [
             0.1,
             "#000022"
            ],
            [
             0.2,
             "#000023"
            ],
            [
             0.3,
             "#000024"
            ],
            [
             0.4,
             "#000025"
            ],
            [
             0.5,
             "#000026"
            ],
            [
             0.6,
             "#000027"
            ],
            [
             0.7,
             "#000028"
            ],
            [
             0.8,
             "#000029"
            ],
            [
             0.9,
             "#000030"
            ],
            [
             1,
             "#000031"
            ]
           ],
           "sequential": [
            [
             0,
             "#000011"
            ],
            [
             0.1111111111111111,
             "#000012"
            ],
            [
             0.2222222222222222,
             "#000013"
            ],
            [
             0.3333333333333333,
             "#000014"
            ],
            [
             0.4444444444444444,
             "#000015"
            ],
            [
             0.5555555555555556,
             "#000016"
            ],
            [
             0.6666666666666666,
             "#000017"
            ],
            [
             0.7777777777777778,
             "#000018"
            ],
            [
             0.8888888888888888,
             "#000019"
            ],
            [
             1,
             "#000020"
            ]
           ],
           "sequentialminus": [
            [
             0,
             "#000011"
            ],
            [
             0.1111111111111111,
             "#000012"
            ],
            [
             0.2222222222222222,
             "#000013"
            ],
            [
             0.3333333333333333,
             "#000014"
            ],
            [
             0.4444444444444444,
             "#000015"
            ],
            [
             0.5555555555555556,
             "#000016"
            ],
            [
             0.6666666666666666,
             "#000017"
            ],
            [
             0.7777777777777778,
             "#000018"
            ],
            [
             0.8888888888888888,
             "#000019"
            ],
            [
             1,
             "#000020"
            ]
           ]
          },
          "colorway": [
           "#000001",
           "#000002",
           "#000003",
           "#000004",
           "#000005",
           "#000006",
           "#000007",
           "#000008",
           "#000009",
           "#000010"
          ]
         }
        },
        "title": {
         "text": "Percentage of Problematic Cases for Different Time Intervals"
        },
        "xaxis": {
         "tickmode": "array",
         "tickvals": [
          "0-30",
          "0-60",
          "0-120",
          "0-240",
          "0-600",
          "0-720"
         ],
         "title": {
          "text": "Time Interval (minutes)"
         }
        },
        "yaxis": {
         "range": [
          0,
          76.36636636636636
         ],
         "title": {
          "text": "Percentage (%)"
         }
        }
       }
      }
     },
     "metadata": {},
     "output_type": "display_data"
    }
   ],
   "source": [
    "# Data for connect and mobile cars\n",
    "time_intervals = ['0-30', '0-60', '0-120', '0-240', '0-600', '0-720']\n",
    "\n",
    "# Example percentages for connect and mobile cases (replace with your actual data)\n",
    "percentages_connect = [\n",
    "    percentage_within_30_minutes_connect, \n",
    "    percentage_within_60_minutes_connect, \n",
    "    percentage_within_120_minutes_connect, \n",
    "    percentage_within_240_minutes_connect, \n",
    "    percentage_within_600_minutes_connect,\n",
    "    percentage_within_720_minutes_connect\n",
    "]\n",
    "\n",
    "percentages_mobile = [\n",
    "    percentage_within_30_minutes_mobile, \n",
    "    percentage_within_60_minutes_mobile, \n",
    "    percentage_within_120_minutes_mobile, \n",
    "    percentage_within_240_minutes_mobile, \n",
    "    percentage_within_600_minutes_mobile,\n",
    "    percentage_within_720_minutes_mobile\n",
    "]\n",
    "\n",
    "# Create Plotly figure\n",
    "fig = go.Figure()\n",
    "\n",
    "# Add bars for connect check-in cases\n",
    "fig.add_trace(go.Bar(\n",
    "    x=time_intervals,\n",
    "    y=percentages_connect,\n",
    "    name='Connect Check-in',\n",
    "    marker_color='lightcoral'\n",
    "))\n",
    "\n",
    "# Add bars for mobile check-in cases\n",
    "fig.add_trace(go.Bar(\n",
    "    x=time_intervals,\n",
    "    y=percentages_mobile,\n",
    "    name='Mobile Check-in',\n",
    "    marker_color='royalblue'\n",
    "))\n",
    "\n",
    "# Update the layout\n",
    "fig.update_layout(\n",
    "    title='Percentage over total of problematic cases for the different time intervals',\n",
    "    xaxis_title='Time Interval (minutes)',\n",
    "    yaxis_title='Percentage (%)',\n",
    "    barmode='group',  # Group the bars\n",
    "    xaxis=dict(tickmode='array', tickvals=time_intervals),\n",
    "    yaxis=dict(range=[0, max(max(percentages_connect), max(percentages_mobile)) + 10])\n",
    ")\n",
    "\n",
    "# Show the chart in Streamlit\n",
    "fig.show()"
   ]
  },
  {
   "cell_type": "code",
   "execution_count": 69,
   "metadata": {},
   "outputs": [],
   "source": [
    "import streamlit as st\n",
    "\n",
    "def calculate_percentages(df, prob_cases, time_intervals, dataset_name):\n",
    "    percentages_within_intervals = []\n",
    "    percentages_within_intervals_over_total = []\n",
    "    \n",
    "    for interval in time_intervals:\n",
    "        # Compute the number of rows where the time delta is between 0 and the current interval\n",
    "        num_cases_within_interval = ((df['time_delta_with_previous_rental_in_minutes'] > 0) & \n",
    "                                      (df['time_delta_with_previous_rental_in_minutes'] <= interval) & \n",
    "                                      (df['delay_at_checkout_in_minutes'] > 0)).sum()\n",
    "\n",
    "        # Calculate the percentage within the interval\n",
    "        percentage_within_interval = 100 * num_cases_within_interval / prob_cases\n",
    "        percentages_within_intervals.append(percentage_within_interval)\n",
    "\n",
    "        # Calculate the percentage of cases within the interval over the total number of rentals\n",
    "        percentage_within_interval_over_total = 100 * num_cases_within_interval / df.shape[0]\n",
    "        percentages_within_intervals_over_total.append(percentage_within_interval_over_total)\n",
    "    \n",
    "    return percentages_within_intervals, percentages_within_intervals_over_total\n"
   ]
  },
  {
   "cell_type": "code",
   "execution_count": 171,
   "metadata": {},
   "outputs": [],
   "source": [
    "# Assuming `df_connect` and `df_mobile` are your dataframes, and `prob_cases_connect`, `prob_cases_mobile` are the total problematic cases\n",
    "\n",
    "# Calculate percentages for both datasets\n",
    "percentages_connect, percentages_connect_over_total = calculate_percentages(df_connect, prob_cases, time_intervals, 'connect')\n",
    "percentages_mobile, percentages_mobile_over_total = calculate_percentages(df_mobile, prob_cases, time_intervals, 'mobile')\n"
   ]
  },
  {
   "cell_type": "code",
   "execution_count": 76,
   "metadata": {},
   "outputs": [
    {
     "data": {
      "application/vnd.plotly.v1+json": {
       "config": {
        "plotlyServerURL": "https://plot.ly"
       },
       "data": [
        {
         "marker": {
          "color": "lightcoral"
         },
         "name": "Connect Check-in",
         "type": "bar",
         "x": [
          30,
          60,
          120,
          240,
          600,
          720
         ],
         "y": [
          2.8528528528528527,
          6.906906906906907,
          11.561561561561561,
          17.26726726726727,
          26.726726726726728,
          33.633633633633636
         ]
        },
        {
         "marker": {
          "color": "royalblue"
         },
         "name": "Mobile Check-in",
         "type": "bar",
         "x": [
          30,
          60,
          120,
          240,
          600,
          720
         ],
         "y": [
          5.7057057057057055,
          13.213213213213214,
          24.324324324324323,
          36.03603603603604,
          54.5045045045045,
          66.36636636636636
         ]
        }
       ],
       "layout": {
        "barmode": "group",
        "template": {
         "data": {
          "candlestick": [
           {
            "decreasing": {
             "line": {
              "color": "#000033"
             }
            },
            "increasing": {
             "line": {
              "color": "#000032"
             }
            },
            "type": "candlestick"
           }
          ],
          "contour": [
           {
            "colorscale": [
             [
              0,
              "#000011"
             ],
             [
              0.1111111111111111,
              "#000012"
             ],
             [
              0.2222222222222222,
              "#000013"
             ],
             [
              0.3333333333333333,
              "#000014"
             ],
             [
              0.4444444444444444,
              "#000015"
             ],
             [
              0.5555555555555556,
              "#000016"
             ],
             [
              0.6666666666666666,
              "#000017"
             ],
             [
              0.7777777777777778,
              "#000018"
             ],
             [
              0.8888888888888888,
              "#000019"
             ],
             [
              1,
              "#000020"
             ]
            ],
            "type": "contour"
           }
          ],
          "contourcarpet": [
           {
            "colorscale": [
             [
              0,
              "#000011"
             ],
             [
              0.1111111111111111,
              "#000012"
             ],
             [
              0.2222222222222222,
              "#000013"
             ],
             [
              0.3333333333333333,
              "#000014"
             ],
             [
              0.4444444444444444,
              "#000015"
             ],
             [
              0.5555555555555556,
              "#000016"
             ],
             [
              0.6666666666666666,
              "#000017"
             ],
             [
              0.7777777777777778,
              "#000018"
             ],
             [
              0.8888888888888888,
              "#000019"
             ],
             [
              1,
              "#000020"
             ]
            ],
            "type": "contourcarpet"
           }
          ],
          "heatmap": [
           {
            "colorscale": [
             [
              0,
              "#000011"
             ],
             [
              0.1111111111111111,
              "#000012"
             ],
             [
              0.2222222222222222,
              "#000013"
             ],
             [
              0.3333333333333333,
              "#000014"
             ],
             [
              0.4444444444444444,
              "#000015"
             ],
             [
              0.5555555555555556,
              "#000016"
             ],
             [
              0.6666666666666666,
              "#000017"
             ],
             [
              0.7777777777777778,
              "#000018"
             ],
             [
              0.8888888888888888,
              "#000019"
             ],
             [
              1,
              "#000020"
             ]
            ],
            "type": "heatmap"
           }
          ],
          "histogram2d": [
           {
            "colorscale": [
             [
              0,
              "#000011"
             ],
             [
              0.1111111111111111,
              "#000012"
             ],
             [
              0.2222222222222222,
              "#000013"
             ],
             [
              0.3333333333333333,
              "#000014"
             ],
             [
              0.4444444444444444,
              "#000015"
             ],
             [
              0.5555555555555556,
              "#000016"
             ],
             [
              0.6666666666666666,
              "#000017"
             ],
             [
              0.7777777777777778,
              "#000018"
             ],
             [
              0.8888888888888888,
              "#000019"
             ],
             [
              1,
              "#000020"
             ]
            ],
            "type": "histogram2d"
           }
          ],
          "icicle": [
           {
            "textfont": {
             "color": "white"
            },
            "type": "icicle"
           }
          ],
          "sankey": [
           {
            "textfont": {
             "color": "#000036"
            },
            "type": "sankey"
           }
          ],
          "scatter": [
           {
            "marker": {
             "line": {
              "width": 0
             }
            },
            "type": "scatter"
           }
          ],
          "table": [
           {
            "cells": {
             "fill": {
              "color": "#000038"
             },
             "font": {
              "color": "#000037"
             },
             "line": {
              "color": "#000039"
             }
            },
            "header": {
             "fill": {
              "color": "#000040"
             },
             "font": {
              "color": "#000036"
             },
             "line": {
              "color": "#000039"
             }
            },
            "type": "table"
           }
          ],
          "waterfall": [
           {
            "connector": {
             "line": {
              "color": "#000036",
              "width": 2
             }
            },
            "decreasing": {
             "marker": {
              "color": "#000033"
             }
            },
            "increasing": {
             "marker": {
              "color": "#000032"
             }
            },
            "totals": {
             "marker": {
              "color": "#000034"
             }
            },
            "type": "waterfall"
           }
          ]
         },
         "layout": {
          "coloraxis": {
           "colorscale": [
            [
             0,
             "#000011"
            ],
            [
             0.1111111111111111,
             "#000012"
            ],
            [
             0.2222222222222222,
             "#000013"
            ],
            [
             0.3333333333333333,
             "#000014"
            ],
            [
             0.4444444444444444,
             "#000015"
            ],
            [
             0.5555555555555556,
             "#000016"
            ],
            [
             0.6666666666666666,
             "#000017"
            ],
            [
             0.7777777777777778,
             "#000018"
            ],
            [
             0.8888888888888888,
             "#000019"
            ],
            [
             1,
             "#000020"
            ]
           ]
          },
          "colorscale": {
           "diverging": [
            [
             0,
             "#000021"
            ],
            [
             0.1,
             "#000022"
            ],
            [
             0.2,
             "#000023"
            ],
            [
             0.3,
             "#000024"
            ],
            [
             0.4,
             "#000025"
            ],
            [
             0.5,
             "#000026"
            ],
            [
             0.6,
             "#000027"
            ],
            [
             0.7,
             "#000028"
            ],
            [
             0.8,
             "#000029"
            ],
            [
             0.9,
             "#000030"
            ],
            [
             1,
             "#000031"
            ]
           ],
           "sequential": [
            [
             0,
             "#000011"
            ],
            [
             0.1111111111111111,
             "#000012"
            ],
            [
             0.2222222222222222,
             "#000013"
            ],
            [
             0.3333333333333333,
             "#000014"
            ],
            [
             0.4444444444444444,
             "#000015"
            ],
            [
             0.5555555555555556,
             "#000016"
            ],
            [
             0.6666666666666666,
             "#000017"
            ],
            [
             0.7777777777777778,
             "#000018"
            ],
            [
             0.8888888888888888,
             "#000019"
            ],
            [
             1,
             "#000020"
            ]
           ],
           "sequentialminus": [
            [
             0,
             "#000011"
            ],
            [
             0.1111111111111111,
             "#000012"
            ],
            [
             0.2222222222222222,
             "#000013"
            ],
            [
             0.3333333333333333,
             "#000014"
            ],
            [
             0.4444444444444444,
             "#000015"
            ],
            [
             0.5555555555555556,
             "#000016"
            ],
            [
             0.6666666666666666,
             "#000017"
            ],
            [
             0.7777777777777778,
             "#000018"
            ],
            [
             0.8888888888888888,
             "#000019"
            ],
            [
             1,
             "#000020"
            ]
           ]
          },
          "colorway": [
           "#000001",
           "#000002",
           "#000003",
           "#000004",
           "#000005",
           "#000006",
           "#000007",
           "#000008",
           "#000009",
           "#000010"
          ]
         }
        },
        "title": {
         "text": "Percentage over problematic cases for the different time intervals"
        },
        "xaxis": {
         "tickmode": "array",
         "tickvals": [
          30,
          60,
          120,
          240,
          600,
          720
         ],
         "title": {
          "text": "Time Interval (minutes)"
         }
        },
        "yaxis": {
         "range": [
          0,
          43.633633633633636
         ],
         "title": {
          "text": "Percentage (%)"
         }
        }
       }
      }
     },
     "metadata": {},
     "output_type": "display_data"
    }
   ],
   "source": [
    "# Create Plotly figure\n",
    "fig = go.Figure()\n",
    "\n",
    "# Add bars for connect check-in cases\n",
    "fig.add_trace(go.Bar(\n",
    "    x=time_intervals,\n",
    "    y=percentages_connect,\n",
    "    name='Connect Check-in',\n",
    "    marker_color='lightcoral'\n",
    "))\n",
    "\n",
    "# Add bars for mobile check-in cases\n",
    "fig.add_trace(go.Bar(\n",
    "    x=time_intervals,\n",
    "    y=percentages_mobile,\n",
    "    name='Mobile Check-in',\n",
    "    marker_color='royalblue'\n",
    "))\n",
    "\n",
    "# Update the layout\n",
    "fig.update_layout(\n",
    "    title='Percentage over problematic cases for the different time intervals',\n",
    "    xaxis_title='Time Interval (minutes)',\n",
    "    yaxis_title='Percentage (%)',\n",
    "    barmode='group',  # Group the bars\n",
    "    xaxis=dict(tickmode='array', tickvals=time_intervals),\n",
    "    yaxis=dict(range=[0, max(max(percentages_connect), max(percentages_mobile_over_total)) + 10])\n",
    ")\n",
    "\n",
    "# Show the chart in Streamlit\n",
    "fig.show()"
   ]
  },
  {
   "cell_type": "code",
   "execution_count": 68,
   "metadata": {},
   "outputs": [
    {
     "data": {
      "text/plain": [
       "checkin_type\n",
       "mobile     17003\n",
       "connect     4307\n",
       "Name: count, dtype: int64"
      ]
     },
     "execution_count": 68,
     "metadata": {},
     "output_type": "execute_result"
    }
   ],
   "source": [
    "df.checkin_type.value_counts()"
   ]
  },
  {
   "cell_type": "code",
   "execution_count": 80,
   "metadata": {},
   "outputs": [
    {
     "data": {
      "application/vnd.plotly.v1+json": {
       "config": {
        "plotlyServerURL": "https://plot.ly"
       },
       "data": [
        {
         "marker": {
          "color": "lightcoral"
         },
         "name": "Connect Check-in",
         "type": "bar",
         "x": [
          30,
          60,
          120,
          240,
          600,
          720
         ],
         "y": [
          0.4411423264453216,
          1.0680287903413048,
          1.7877873229626189,
          2.6700719758532623,
          4.132807058277223,
          5.200835848618528
         ]
        },
        {
         "marker": {
          "color": "royalblue"
         },
         "name": "Mobile Check-in",
         "type": "bar",
         "x": [
          30,
          60,
          120,
          240,
          600,
          720
         ],
         "y": [
          0.2234899723578192,
          0.5175557254602129,
          0.9527730400517556,
          1.4115156148914898,
          2.134917367523378,
          2.59954125742516
         ]
        }
       ],
       "layout": {
        "barmode": "group",
        "template": {
         "data": {
          "candlestick": [
           {
            "decreasing": {
             "line": {
              "color": "#000033"
             }
            },
            "increasing": {
             "line": {
              "color": "#000032"
             }
            },
            "type": "candlestick"
           }
          ],
          "contour": [
           {
            "colorscale": [
             [
              0,
              "#000011"
             ],
             [
              0.1111111111111111,
              "#000012"
             ],
             [
              0.2222222222222222,
              "#000013"
             ],
             [
              0.3333333333333333,
              "#000014"
             ],
             [
              0.4444444444444444,
              "#000015"
             ],
             [
              0.5555555555555556,
              "#000016"
             ],
             [
              0.6666666666666666,
              "#000017"
             ],
             [
              0.7777777777777778,
              "#000018"
             ],
             [
              0.8888888888888888,
              "#000019"
             ],
             [
              1,
              "#000020"
             ]
            ],
            "type": "contour"
           }
          ],
          "contourcarpet": [
           {
            "colorscale": [
             [
              0,
              "#000011"
             ],
             [
              0.1111111111111111,
              "#000012"
             ],
             [
              0.2222222222222222,
              "#000013"
             ],
             [
              0.3333333333333333,
              "#000014"
             ],
             [
              0.4444444444444444,
              "#000015"
             ],
             [
              0.5555555555555556,
              "#000016"
             ],
             [
              0.6666666666666666,
              "#000017"
             ],
             [
              0.7777777777777778,
              "#000018"
             ],
             [
              0.8888888888888888,
              "#000019"
             ],
             [
              1,
              "#000020"
             ]
            ],
            "type": "contourcarpet"
           }
          ],
          "heatmap": [
           {
            "colorscale": [
             [
              0,
              "#000011"
             ],
             [
              0.1111111111111111,
              "#000012"
             ],
             [
              0.2222222222222222,
              "#000013"
             ],
             [
              0.3333333333333333,
              "#000014"
             ],
             [
              0.4444444444444444,
              "#000015"
             ],
             [
              0.5555555555555556,
              "#000016"
             ],
             [
              0.6666666666666666,
              "#000017"
             ],
             [
              0.7777777777777778,
              "#000018"
             ],
             [
              0.8888888888888888,
              "#000019"
             ],
             [
              1,
              "#000020"
             ]
            ],
            "type": "heatmap"
           }
          ],
          "histogram2d": [
           {
            "colorscale": [
             [
              0,
              "#000011"
             ],
             [
              0.1111111111111111,
              "#000012"
             ],
             [
              0.2222222222222222,
              "#000013"
             ],
             [
              0.3333333333333333,
              "#000014"
             ],
             [
              0.4444444444444444,
              "#000015"
             ],
             [
              0.5555555555555556,
              "#000016"
             ],
             [
              0.6666666666666666,
              "#000017"
             ],
             [
              0.7777777777777778,
              "#000018"
             ],
             [
              0.8888888888888888,
              "#000019"
             ],
             [
              1,
              "#000020"
             ]
            ],
            "type": "histogram2d"
           }
          ],
          "icicle": [
           {
            "textfont": {
             "color": "white"
            },
            "type": "icicle"
           }
          ],
          "sankey": [
           {
            "textfont": {
             "color": "#000036"
            },
            "type": "sankey"
           }
          ],
          "scatter": [
           {
            "marker": {
             "line": {
              "width": 0
             }
            },
            "type": "scatter"
           }
          ],
          "table": [
           {
            "cells": {
             "fill": {
              "color": "#000038"
             },
             "font": {
              "color": "#000037"
             },
             "line": {
              "color": "#000039"
             }
            },
            "header": {
             "fill": {
              "color": "#000040"
             },
             "font": {
              "color": "#000036"
             },
             "line": {
              "color": "#000039"
             }
            },
            "type": "table"
           }
          ],
          "waterfall": [
           {
            "connector": {
             "line": {
              "color": "#000036",
              "width": 2
             }
            },
            "decreasing": {
             "marker": {
              "color": "#000033"
             }
            },
            "increasing": {
             "marker": {
              "color": "#000032"
             }
            },
            "totals": {
             "marker": {
              "color": "#000034"
             }
            },
            "type": "waterfall"
           }
          ]
         },
         "layout": {
          "coloraxis": {
           "colorscale": [
            [
             0,
             "#000011"
            ],
            [
             0.1111111111111111,
             "#000012"
            ],
            [
             0.2222222222222222,
             "#000013"
            ],
            [
             0.3333333333333333,
             "#000014"
            ],
            [
             0.4444444444444444,
             "#000015"
            ],
            [
             0.5555555555555556,
             "#000016"
            ],
            [
             0.6666666666666666,
             "#000017"
            ],
            [
             0.7777777777777778,
             "#000018"
            ],
            [
             0.8888888888888888,
             "#000019"
            ],
            [
             1,
             "#000020"
            ]
           ]
          },
          "colorscale": {
           "diverging": [
            [
             0,
             "#000021"
            ],
            [
             0.1,
             "#000022"
            ],
            [
             0.2,
             "#000023"
            ],
            [
             0.3,
             "#000024"
            ],
            [
             0.4,
             "#000025"
            ],
            [
             0.5,
             "#000026"
            ],
            [
             0.6,
             "#000027"
            ],
            [
             0.7,
             "#000028"
            ],
            [
             0.8,
             "#000029"
            ],
            [
             0.9,
             "#000030"
            ],
            [
             1,
             "#000031"
            ]
           ],
           "sequential": [
            [
             0,
             "#000011"
            ],
            [
             0.1111111111111111,
             "#000012"
            ],
            [
             0.2222222222222222,
             "#000013"
            ],
            [
             0.3333333333333333,
             "#000014"
            ],
            [
             0.4444444444444444,
             "#000015"
            ],
            [
             0.5555555555555556,
             "#000016"
            ],
            [
             0.6666666666666666,
             "#000017"
            ],
            [
             0.7777777777777778,
             "#000018"
            ],
            [
             0.8888888888888888,
             "#000019"
            ],
            [
             1,
             "#000020"
            ]
           ],
           "sequentialminus": [
            [
             0,
             "#000011"
            ],
            [
             0.1111111111111111,
             "#000012"
            ],
            [
             0.2222222222222222,
             "#000013"
            ],
            [
             0.3333333333333333,
             "#000014"
            ],
            [
             0.4444444444444444,
             "#000015"
            ],
            [
             0.5555555555555556,
             "#000016"
            ],
            [
             0.6666666666666666,
             "#000017"
            ],
            [
             0.7777777777777778,
             "#000018"
            ],
            [
             0.8888888888888888,
             "#000019"
            ],
            [
             1,
             "#000020"
            ]
           ]
          },
          "colorway": [
           "#000001",
           "#000002",
           "#000003",
           "#000004",
           "#000005",
           "#000006",
           "#000007",
           "#000008",
           "#000009",
           "#000010"
          ]
         }
        },
        "title": {
         "text": "Percentage over total rented cars for the different time intervals"
        },
        "xaxis": {
         "tickmode": "array",
         "tickvals": [
          30,
          60,
          120,
          240,
          600,
          720
         ],
         "title": {
          "text": "Time Interval (minutes)"
         }
        },
        "yaxis": {
         "title": {
          "text": "Percentage (%)"
         }
        }
       }
      }
     },
     "metadata": {},
     "output_type": "display_data"
    }
   ],
   "source": [
    "# Create Plotly figure\n",
    "fig = go.Figure()\n",
    "\n",
    "# Add bars for connect check-in cases\n",
    "fig.add_trace(go.Bar(\n",
    "    x=time_intervals,\n",
    "    y=percentages_connect_over_total,\n",
    "    name='Connect Check-in',\n",
    "    marker_color='lightcoral'\n",
    "))\n",
    "\n",
    "# Add bars for mobile check-in cases\n",
    "fig.add_trace(go.Bar(\n",
    "    x=time_intervals,\n",
    "    y=percentages_mobile_over_total,\n",
    "    name='Mobile Check-in',\n",
    "    marker_color='royalblue'\n",
    "))\n",
    "\n",
    "# Update the layout\n",
    "fig.update_layout(\n",
    "    title='Percentage over total rented cars for the different time intervals',\n",
    "    xaxis_title='Time Interval (minutes)',\n",
    "    yaxis_title='Percentage (%)',\n",
    "    barmode='group',  # Group the bars\n",
    "    xaxis=dict(tickmode='array', tickvals=time_intervals),\n",
    ")\n",
    "\n",
    "# Show the chart in Streamlit\n",
    "fig.show()"
   ]
  },
  {
   "cell_type": "code",
   "execution_count": 81,
   "metadata": {},
   "outputs": [
    {
     "data": {
      "text/plain": [
       "[0.2234899723578192,\n",
       " 0.5175557254602129,\n",
       " 0.9527730400517556,\n",
       " 1.4115156148914898,\n",
       " 2.134917367523378,\n",
       " 2.59954125742516]"
      ]
     },
     "execution_count": 81,
     "metadata": {},
     "output_type": "execute_result"
    }
   ],
   "source": [
    "percentages_mobile_over_total"
   ]
  },
  {
   "cell_type": "code",
   "execution_count": 82,
   "metadata": {},
   "outputs": [
    {
     "data": {
      "text/plain": [
       "[0.4411423264453216,\n",
       " 1.0680287903413048,\n",
       " 1.7877873229626189,\n",
       " 2.6700719758532623,\n",
       " 4.132807058277223,\n",
       " 5.200835848618528]"
      ]
     },
     "execution_count": 82,
     "metadata": {},
     "output_type": "execute_result"
    }
   ],
   "source": [
    "percentages_connect_over_total"
   ]
  },
  {
   "cell_type": "markdown",
   "metadata": {},
   "source": [
    "## If the feature's scope applies only ofr connect car with a maximum threshold time of 720 minutes (12 hours), which is the longest measured, this may have an impact on 1.05% of the total rentals where problematic situations were verified. \n",
    "\n",
    "## If the feature's scope applies both to mobile or connect cars with a maximum threshold time of 720 minutes (12 hours), it may affect 2.07% of the total rentals where problematic situations were verified. \n",
    "\n"
   ]
  }
 ],
 "metadata": {
  "kernelspec": {
   "display_name": "base",
   "language": "python",
   "name": "python3"
  },
  "language_info": {
   "codemirror_mode": {
    "name": "ipython",
    "version": 3
   },
   "file_extension": ".py",
   "mimetype": "text/x-python",
   "name": "python",
   "nbconvert_exporter": "python",
   "pygments_lexer": "ipython3",
   "version": "3.11.8"
  }
 },
 "nbformat": 4,
 "nbformat_minor": 2
}
